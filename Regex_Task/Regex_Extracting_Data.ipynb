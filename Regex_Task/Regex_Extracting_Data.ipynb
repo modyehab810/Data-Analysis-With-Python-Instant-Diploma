{
 "cells": [
  {
   "cell_type": "code",
   "execution_count": 7,
   "id": "f99a71e2",
   "metadata": {},
   "outputs": [],
   "source": [
    "import re"
   ]
  },
  {
   "cell_type": "markdown",
   "id": "9a822fbc",
   "metadata": {},
   "source": [
    "# Load The File "
   ]
  },
  {
   "cell_type": "code",
   "execution_count": 8,
   "id": "ab037e73",
   "metadata": {},
   "outputs": [],
   "source": [
    "def extract_data(file_path, get_name=True, get_phone = True, get_email=True):\n",
    "    names_list = []\n",
    "    phones_list = []\n",
    "    emails_list = []\n",
    "\n",
    "    with open(file_path, \"r\") as f:\n",
    "        contents = f.read()\n",
    "        \n",
    "        if get_name:\n",
    "            # Phones Matches\n",
    "            pattern = re.compile(\"(-|,)?[A-z]*\\s[A-z]*(-|,|\\n)\")\n",
    "            matches = pattern.finditer(contents) \n",
    "            for name in matches:\n",
    "                s = name.span()[0]\n",
    "                if contents[s] in [\",\", \"-\"]:\n",
    "                    s = name.span()[0]+1\n",
    "                e = name.span()[1]-1\n",
    "                names_list.append(contents[s:e])\n",
    "                \n",
    "        if get_phone:\n",
    "            # Phones Matches\n",
    "            pattern = re.compile(\"(-|,)?01[0125]-?\\d{4}-?\\d{4}(-|,)?\")\n",
    "            matches = pattern.finditer(contents) \n",
    "            for phone in matches:\n",
    "                s = phone.span()[0]\n",
    "                if contents[s] in [\",\", \"-\"]:\n",
    "                    s = phone.span()[0]+1\n",
    "                e = phone.span()[1]-1\n",
    "                phones_list.append(contents[s:e])\n",
    "\n",
    "        if get_email:\n",
    "            # Phones Matches\n",
    "            pattern = re.compile(\"(-|,)?\\w+@\\w+(.com|.net|.info|.eg)(-|,)?\")\n",
    "            matches = pattern.finditer(contents) \n",
    "            for email in matches:\n",
    "                s = email.span()[0]\n",
    "                e = email.span()[1]\n",
    "                # To Clean The Start of The Retrived Mail\n",
    "                if contents[s] in [\",\", \"-\"]:\n",
    "                    s = email.span()[0]+1\n",
    "                    \n",
    "                # To Clean The End of The Retrived Mail\n",
    "                if contents[e-1] in [\",\", \"-\"]:\n",
    "                    e = email.span()[1]-1\n",
    "                    \n",
    "                emails_list.append(contents[s:e])\n",
    "                \n",
    "    if get_name == False:\n",
    "        return phones_list, emails_list\n",
    "    if get_phone == False:\n",
    "        return names_list, emails_list\n",
    "    if get_email == False:\n",
    "        return names_list, phones_list\n",
    "                \n",
    "    return names_list, phones_list, emails_list"
   ]
  },
  {
   "cell_type": "markdown",
   "id": "0dd2d00d",
   "metadata": {},
   "source": [
    "# Example: Extracting All Data From File"
   ]
  },
  {
   "cell_type": "code",
   "execution_count": 9,
   "id": "990888e7",
   "metadata": {},
   "outputs": [],
   "source": [
    "names, phones, emails = extract_data(\"users_data.txt\")"
   ]
  },
  {
   "cell_type": "markdown",
   "id": "fc11b70c",
   "metadata": {},
   "source": [
    "### Print The Data In Good Format"
   ]
  },
  {
   "cell_type": "code",
   "execution_count": 10,
   "id": "191580a2",
   "metadata": {},
   "outputs": [
    {
     "name": "stdout",
     "output_type": "stream",
     "text": [
      "   Name             Phones              Mails\n",
      "1) Muhammad Saleh   01020000000         MomoSaleh@gmail.com\n",
      "2) Mustafa Sayed    01121111111         MustafaSayed@yahoo.com\n",
      "3) Ahmed Radwan     01571487777         AhmedRadwan@gmail.com\n",
      "4) Khaled Fathy     01232044448         KhaledFathy784@company.net\n",
      "5) Sammy Adel       01044444444         SammyAdel@gmail.net\n",
      "6) Hatem Khalil     010-4879-111        HatemKhalil@yahoo.net\n"
     ]
    }
   ],
   "source": [
    "data_len = len(names)\n",
    "print(\"   Name\\t\\tPhones\\t\\tMails\".expandtabs(10))\n",
    "for i in range(data_len):\n",
    "    print(f\"{i+1}) {names[i]}\\t{phones[i]}\\t{emails[i]}\".expandtabs(10))"
   ]
  },
  {
   "cell_type": "markdown",
   "id": "d60270cc",
   "metadata": {},
   "source": [
    "# Example: Extracting Just Names and Emails"
   ]
  },
  {
   "cell_type": "code",
   "execution_count": 11,
   "id": "ed1171e1",
   "metadata": {},
   "outputs": [],
   "source": [
    "names, emails = extract_data(\"users_data.txt\", get_phone=False)"
   ]
  },
  {
   "cell_type": "code",
   "execution_count": 12,
   "id": "02da41a0",
   "metadata": {},
   "outputs": [
    {
     "name": "stdout",
     "output_type": "stream",
     "text": [
      "   Name             Mails\n",
      "1) Muhammad Saleh   MomoSaleh@gmail.com\n",
      "2) Mustafa Sayed    MustafaSayed@yahoo.com\n",
      "3) Ahmed Radwan     AhmedRadwan@gmail.com\n",
      "4) Khaled Fathy     KhaledFathy784@company.net\n",
      "5) Sammy Adel       SammyAdel@gmail.net\n",
      "6) Hatem Khalil     HatemKhalil@yahoo.net\n"
     ]
    }
   ],
   "source": [
    "data_len = len(names)\n",
    "print(\"   Name\\t\\tMails\".expandtabs(10))\n",
    "for i in range(data_len):\n",
    "    print(f\"{i+1}) {names[i]}\\t{emails[i]}\".expandtabs(10))"
   ]
  }
 ],
 "metadata": {
  "kernelspec": {
   "display_name": "Python 3 (ipykernel)",
   "language": "python",
   "name": "python3"
  },
  "language_info": {
   "codemirror_mode": {
    "name": "ipython",
    "version": 3
   },
   "file_extension": ".py",
   "mimetype": "text/x-python",
   "name": "python",
   "nbconvert_exporter": "python",
   "pygments_lexer": "ipython3",
   "version": "3.10.9"
  }
 },
 "nbformat": 4,
 "nbformat_minor": 5
}
