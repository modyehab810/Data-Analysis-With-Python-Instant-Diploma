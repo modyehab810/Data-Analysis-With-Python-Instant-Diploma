{
  "cells": [
    {
      "cell_type": "markdown",
      "metadata": {
        "id": "3c1222ff"
      },
      "source": [
        "#### 1. Import the numpy package under the name `np` (★☆☆)"
      ],
      "id": "3c1222ff"
    },
    {
      "cell_type": "code",
      "execution_count": 1,
      "metadata": {
        "id": "f52e6a0b"
      },
      "outputs": [],
      "source": [
        "import numpy as np"
      ],
      "id": "f52e6a0b"
    },
    {
      "cell_type": "markdown",
      "metadata": {
        "id": "9d9f4753"
      },
      "source": [
        "#### 2. Print the numpy version and the configuration (★☆☆)"
      ],
      "id": "9d9f4753"
    },
    {
      "cell_type": "code",
      "execution_count": null,
      "metadata": {
        "id": "b7fa5fa1",
        "outputId": "6d7efdc1-e2b4-4b70-e0a7-d842566ae49f"
      },
      "outputs": [
        {
          "name": "stdout",
          "output_type": "stream",
          "text": [
            "NumPy Version: 1.23.5\n"
          ]
        }
      ],
      "source": [
        "print(f\"NumPy Version: {np.__version__}\")"
      ],
      "id": "b7fa5fa1"
    },
    {
      "cell_type": "markdown",
      "metadata": {
        "id": "3e4c23c6"
      },
      "source": [
        "#### 3. Create a null vector of size 10 (★☆☆)"
      ],
      "id": "3e4c23c6"
    },
    {
      "cell_type": "code",
      "execution_count": null,
      "metadata": {
        "colab": {
          "base_uri": "https://localhost:8080/"
        },
        "id": "083c5c46",
        "outputId": "f82eba18-f2af-4ecc-fdaa-1791fc91da4a"
      },
      "outputs": [
        {
          "name": "stdout",
          "output_type": "stream",
          "text": [
            "[8.64684703e-312 2.27270197e-322 0.00000000e+000 0.00000000e+000\n",
            " 0.00000000e+000 1.16095484e-028 3.65093134e+233 4.25117084e-096\n",
            " 9.80058441e+252 1.23971686e+224]\n"
          ]
        }
      ],
      "source": [
        "null_vector = np.empty(10)\n",
        "print(null_vector)"
      ],
      "id": "083c5c46"
    },
    {
      "cell_type": "markdown",
      "metadata": {
        "id": "c38bbe82"
      },
      "source": [
        "#### 4. How to find the memory size of any array (★☆☆)"
      ],
      "id": "c38bbe82"
    },
    {
      "cell_type": "code",
      "execution_count": null,
      "metadata": {
        "colab": {
          "base_uri": "https://localhost:8080/"
        },
        "id": "02b04021",
        "outputId": "f92ca75c-da8f-42b9-b0b2-ee33a1f2559c"
      },
      "outputs": [
        {
          "name": "stdout",
          "output_type": "stream",
          "text": [
            "[0.8488177  0.17889592 0.05436321 0.36153845 0.27540093 0.53000022\n",
            " 0.30591892 0.30447436 0.11174128 0.24989901 0.9176299  0.26414685]\n",
            "\n",
            "The Size of the array in memory: 96\n"
          ]
        }
      ],
      "source": [
        "np.random.seed(15)\n",
        "arr = np.random.random(12)\n",
        "print(arr)\n",
        "print(f\"The Size of the array in memory: {arr.size * arr.itemsize}\")"
      ],
      "id": "02b04021"
    },
    {
      "cell_type": "markdown",
      "metadata": {
        "id": "67f893d4"
      },
      "source": [
        "#### 5. How to get the documentation of the numpy add function from the command line? (★☆☆)"
      ],
      "id": "67f893d4"
    },
    {
      "cell_type": "code",
      "execution_count": null,
      "metadata": {
        "id": "40e6b70d",
        "outputId": "a2e42c24-de44-4abb-b0d1-7ef1c6c9c8d4"
      },
      "outputs": [
        {
          "name": "stdout",
          "output_type": "stream",
          "text": [
            "Help on ufunc:\n",
            "\n",
            "add = <ufunc 'add'>\n",
            "    add(x1, x2, /, out=None, *, where=True, casting='same_kind', order='K', dtype=None, subok=True[, signature, extobj])\n",
            "    \n",
            "    Add arguments element-wise.\n",
            "    \n",
            "    Parameters\n",
            "    ----------\n",
            "    x1, x2 : array_like\n",
            "        The arrays to be added.\n",
            "        If ``x1.shape != x2.shape``, they must be broadcastable to a common\n",
            "        shape (which becomes the shape of the output).\n",
            "    out : ndarray, None, or tuple of ndarray and None, optional\n",
            "        A location into which the result is stored. If provided, it must have\n",
            "        a shape that the inputs broadcast to. If not provided or None,\n",
            "        a freshly-allocated array is returned. A tuple (possible only as a\n",
            "        keyword argument) must have length equal to the number of outputs.\n",
            "    where : array_like, optional\n",
            "        This condition is broadcast over the input. At locations where the\n",
            "        condition is True, the `out` array will be set to the ufunc result.\n",
            "        Elsewhere, the `out` array will retain its original value.\n",
            "        Note that if an uninitialized `out` array is created via the default\n",
            "        ``out=None``, locations within it where the condition is False will\n",
            "        remain uninitialized.\n",
            "    **kwargs\n",
            "        For other keyword-only arguments, see the\n",
            "        :ref:`ufunc docs <ufuncs.kwargs>`.\n",
            "    \n",
            "    Returns\n",
            "    -------\n",
            "    add : ndarray or scalar\n",
            "        The sum of `x1` and `x2`, element-wise.\n",
            "        This is a scalar if both `x1` and `x2` are scalars.\n",
            "    \n",
            "    Notes\n",
            "    -----\n",
            "    Equivalent to `x1` + `x2` in terms of array broadcasting.\n",
            "    \n",
            "    Examples\n",
            "    --------\n",
            "    >>> np.add(1.0, 4.0)\n",
            "    5.0\n",
            "    >>> x1 = np.arange(9.0).reshape((3, 3))\n",
            "    >>> x2 = np.arange(3.0)\n",
            "    >>> np.add(x1, x2)\n",
            "    array([[  0.,   2.,   4.],\n",
            "           [  3.,   5.,   7.],\n",
            "           [  6.,   8.,  10.]])\n",
            "    \n",
            "    The ``+`` operator can be used as a shorthand for ``np.add`` on ndarrays.\n",
            "    \n",
            "    >>> x1 = np.arange(9.0).reshape((3, 3))\n",
            "    >>> x2 = np.arange(3.0)\n",
            "    >>> x1 + x2\n",
            "    array([[ 0.,  2.,  4.],\n",
            "           [ 3.,  5.,  7.],\n",
            "           [ 6.,  8., 10.]])\n",
            "\n"
          ]
        }
      ],
      "source": [
        "help(np.add)\n",
        "\n",
        "np.add?"
      ],
      "id": "40e6b70d"
    },
    {
      "cell_type": "markdown",
      "metadata": {
        "id": "e0c739c6"
      },
      "source": [
        "#### 6. Create a null vector of size 10 but the fifth value which is 1 (★☆☆)"
      ],
      "id": "e0c739c6"
    },
    {
      "cell_type": "code",
      "execution_count": null,
      "metadata": {
        "id": "bcceacf7",
        "outputId": "e064418e-6452-4ce9-d406-075a8567e30f"
      },
      "outputs": [
        {
          "name": "stdout",
          "output_type": "stream",
          "text": [
            "[0 0 0 0 1 0 0 0 0 0]\n"
          ]
        }
      ],
      "source": [
        "null_vector = np.zeros(10, dtype = np.int8)\n",
        "null_vector[4] = 1\n",
        "print(null_vector)"
      ],
      "id": "bcceacf7"
    },
    {
      "cell_type": "markdown",
      "metadata": {
        "id": "fbebedab"
      },
      "source": [
        "#### 7. Create a vector with values ranging from 10 to 49 (★☆☆)"
      ],
      "id": "fbebedab"
    },
    {
      "cell_type": "code",
      "execution_count": null,
      "metadata": {
        "id": "3d117d54",
        "outputId": "dc040cef-695a-4957-f238-4f0e11e63375"
      },
      "outputs": [
        {
          "name": "stdout",
          "output_type": "stream",
          "text": [
            "[10 11 12 13 14 15 16 17 18 19 20 21 22 23 24 25 26 27 28 29 30 31 32 33\n",
            " 34 35 36 37 38 39 40 41 42 43 44 45 46 47 48 49]\n"
          ]
        }
      ],
      "source": [
        "arr = np.arange(10, 50)\n",
        "print(arr)"
      ],
      "id": "3d117d54"
    },
    {
      "cell_type": "markdown",
      "metadata": {
        "id": "ad0bff02"
      },
      "source": [
        "#### 8. Reverse a vector (first element becomes last) (★☆☆)"
      ],
      "id": "ad0bff02"
    },
    {
      "cell_type": "code",
      "execution_count": null,
      "metadata": {
        "id": "22d23470",
        "outputId": "7162e19d-b695-4273-cc31-0ad296555d76"
      },
      "outputs": [
        {
          "name": "stdout",
          "output_type": "stream",
          "text": [
            "Before Reversing: [10 11 12 13 14 15 16 17 18 19 20]\n",
            "After  Reversing: [20 19 18 17 16 15 14 13 12 11 10]\n"
          ]
        }
      ],
      "source": [
        "arr = np.arange(10, 21)\n",
        "print(f\"Before Reversing: {arr}\")\n",
        "\n",
        "arr = arr[::-1]\n",
        "print(f\"After  Reversing: {arr}\")\n"
      ],
      "id": "22d23470"
    },
    {
      "cell_type": "markdown",
      "metadata": {
        "id": "9f59d7e1"
      },
      "source": [
        "#### 9. Create a 3x3 matrix with values ranging from 0 to 8 (★☆☆)"
      ],
      "id": "9f59d7e1"
    },
    {
      "cell_type": "code",
      "execution_count": null,
      "metadata": {
        "id": "7449e82d",
        "outputId": "ce778540-05e3-4860-915c-479dff72718e"
      },
      "outputs": [
        {
          "name": "stdout",
          "output_type": "stream",
          "text": [
            "[[0 1 2]\n",
            " [3 4 5]\n",
            " [6 7 8]]\n"
          ]
        }
      ],
      "source": [
        "arr_3x3 = np.arange(0, 9).reshape(3, 3)\n",
        "print(arr_3x3)"
      ],
      "id": "7449e82d"
    },
    {
      "cell_type": "markdown",
      "metadata": {
        "id": "f374c4cf"
      },
      "source": [
        "#### 10. Find indices of non-zero elements from [1,2,0,0,4,0] (★☆☆)"
      ],
      "id": "f374c4cf"
    },
    {
      "cell_type": "code",
      "execution_count": null,
      "metadata": {
        "colab": {
          "base_uri": "https://localhost:8080/"
        },
        "id": "1a84bed8",
        "outputId": "55449494-22a6-482e-b0e1-3a2c9a7caef4"
      },
      "outputs": [
        {
          "name": "stdout",
          "output_type": "stream",
          "text": [
            "Indices of non-zero: (array([0, 1, 4], dtype=int64),)\n"
          ]
        }
      ],
      "source": [
        "arr = np.array([1,2,0,0,4,0])\n",
        "print(f\"Indices of non-zero: {arr.nonzero()}\")"
      ],
      "id": "1a84bed8"
    },
    {
      "cell_type": "markdown",
      "metadata": {
        "id": "9c4707f5"
      },
      "source": [
        "#### 11. Create a 3x3 identity matrix (★☆☆)"
      ],
      "id": "9c4707f5"
    },
    {
      "cell_type": "code",
      "execution_count": null,
      "metadata": {
        "colab": {
          "base_uri": "https://localhost:8080/"
        },
        "id": "29dc1fd3",
        "outputId": "203f8306-849f-4ce5-ee5d-0796ad107a32"
      },
      "outputs": [
        {
          "name": "stdout",
          "output_type": "stream",
          "text": [
            "[[1. 0. 0.]\n",
            " [0. 1. 0.]\n",
            " [0. 0. 1.]]\n"
          ]
        }
      ],
      "source": [
        "arr_identity = np.eye(3)\n",
        "print(arr_identity)\n"
      ],
      "id": "29dc1fd3"
    },
    {
      "cell_type": "markdown",
      "metadata": {
        "id": "3bac294a"
      },
      "source": [
        "#### 12. Create a 3x3x3 array with random values (★☆☆)"
      ],
      "id": "3bac294a"
    },
    {
      "cell_type": "code",
      "execution_count": null,
      "metadata": {
        "colab": {
          "base_uri": "https://localhost:8080/"
        },
        "id": "eadfae67",
        "outputId": "907846f4-6a0f-4f8f-d2dd-0dffed0d7f63"
      },
      "outputs": [
        {
          "name": "stdout",
          "output_type": "stream",
          "text": [
            "[[[0.5881308  0.89771373 0.89153073]\n",
            "  [0.81583748 0.03588959 0.69175758]\n",
            "  [0.37868094 0.51851095 0.65795147]]\n",
            "\n",
            " [[0.19385022 0.2723164  0.71860593]\n",
            "  [0.78300361 0.85032764 0.77524489]\n",
            "  [0.03666431 0.11669374 0.7512807 ]]\n",
            "\n",
            " [[0.23921822 0.25480601 0.85762553]\n",
            "  [0.94977903 0.56168686 0.17878052]\n",
            "  [0.77025193 0.49238104 0.63125307]]]\n"
          ]
        }
      ],
      "source": [
        "np.random.seed(20)\n",
        "random_val_arr = np.random.random((3,3, 3))\n",
        "print(random_val_arr)"
      ],
      "id": "eadfae67"
    },
    {
      "cell_type": "markdown",
      "metadata": {
        "id": "466c2989"
      },
      "source": [
        "#### 13. Create a 10x10 array with random values and find the minimum and maximum values (★☆☆)"
      ],
      "id": "466c2989"
    },
    {
      "cell_type": "code",
      "execution_count": null,
      "metadata": {
        "id": "9a74dbfc",
        "outputId": "79d9191a-ac20-465c-87c5-7e49df032f2e"
      },
      "outputs": [
        {
          "name": "stdout",
          "output_type": "stream",
          "text": [
            "[[0.8488177  0.17889592 0.05436321 0.36153845 0.27540093 0.53000022\n",
            "  0.30591892 0.30447436 0.11174128 0.24989901]\n",
            " [0.9176299  0.26414685 0.71777369 0.86571503 0.80707948 0.21055058\n",
            "  0.16724303 0.04670639 0.03942231 0.20023081]\n",
            " [0.9985434  0.37278698 0.76051027 0.47347444 0.50971531 0.94503842\n",
            "  0.10944665 0.46509316 0.14155526 0.53834876]\n",
            " [0.29899866 0.53774522 0.66562754 0.3643288  0.62301862 0.64272489\n",
            "  0.41998182 0.40324243 0.39042033 0.40618952]\n",
            " [0.07966611 0.0568312  0.07833091 0.69567781 0.02915896 0.49949242\n",
            "  0.13263432 0.03075563 0.63948943 0.44599815]\n",
            " [0.97460664 0.32976593 0.19542482 0.68404621 0.35109886 0.77103611\n",
            "  0.7917995  0.44387459 0.2688283  0.02390442]\n",
            " [0.37133257 0.09773088 0.72752255 0.45944443 0.52049647 0.68456904\n",
            "  0.4252903  0.60347306 0.82384911 0.45187126]\n",
            " [0.8879452  0.22039954 0.10682265 0.01201013 0.9179414  0.63656621\n",
            "  0.21976204 0.54755243 0.92079967 0.87566594]\n",
            " [0.12759215 0.30365374 0.29529657 0.56910504 0.74341963 0.33001519\n",
            "  0.60785231 0.51567535 0.91980072 0.20136661]\n",
            " [0.00164476 0.0717332  0.4204945  0.49891737 0.57375169 0.88037338\n",
            "  0.20071997 0.42117806 0.93227734 0.3632908 ]]\n",
            "==============================\n",
            "Min Number: 0.00164\n",
            "Max Number: 0.99854\n"
          ]
        }
      ],
      "source": [
        "np.random.seed(15)\n",
        "random_10x10_arr = np.random.random((10,10))\n",
        "print(random_10x10_arr)\n",
        "print(\"=\" * 30)\n",
        "print(f\"Min Number: {np.round(np.min(random_10x10_arr), 5)}\")\n",
        "print(f\"Max Number: {np.round(np.max(random_10x10_arr), 5)}\")"
      ],
      "id": "9a74dbfc"
    },
    {
      "cell_type": "markdown",
      "metadata": {
        "id": "53a8edb2"
      },
      "source": [
        "#### 14. Create a random vector of size 30 and find the mean value (★☆☆)"
      ],
      "id": "53a8edb2"
    },
    {
      "cell_type": "code",
      "execution_count": null,
      "metadata": {
        "id": "6691530b",
        "outputId": "c12c9cde-9443-43ab-ff55-4a770ec4fbb2"
      },
      "outputs": [
        {
          "name": "stdout",
          "output_type": "stream",
          "text": [
            "Mean of Vector: 0.50559\n"
          ]
        }
      ],
      "source": [
        "np.random.seed(8)\n",
        "random_vector = np.random.random(30)\n",
        "print(f\"Mean of Vector: {np.round(np.mean(random_vector), 6)}\")"
      ],
      "id": "6691530b"
    },
    {
      "cell_type": "markdown",
      "metadata": {
        "id": "cbaad31c"
      },
      "source": [
        "#### 15. Create a 2d array with 1 on the border and 0 inside (★☆☆)"
      ],
      "id": "cbaad31c"
    },
    {
      "cell_type": "code",
      "execution_count": null,
      "metadata": {
        "colab": {
          "base_uri": "https://localhost:8080/"
        },
        "id": "ad8308e3",
        "outputId": "4a834fcc-7048-44e3-bbd8-9d0f6d2fb1b1"
      },
      "outputs": [
        {
          "name": "stdout",
          "output_type": "stream",
          "text": [
            "[[1 1 1 1 1 1 1 1 1 1]\n",
            " [1 0 0 0 0 0 0 0 0 1]\n",
            " [1 0 0 0 0 0 0 0 0 1]\n",
            " [1 0 0 0 0 0 0 0 0 1]\n",
            " [1 0 0 0 0 0 0 0 0 1]\n",
            " [1 0 0 0 0 0 0 0 0 1]\n",
            " [1 0 0 0 0 0 0 0 0 1]\n",
            " [1 0 0 0 0 0 0 0 0 1]\n",
            " [1 0 0 0 0 0 0 0 0 1]\n",
            " [1 1 1 1 1 1 1 1 1 1]]\n"
          ]
        }
      ],
      "source": [
        "one_border_arr = np.ones((10, 10), dtype= np.int8)\n",
        "one_border_arr[1:-1, 1:-1] = 0\n",
        "print(one_border_arr)"
      ],
      "id": "ad8308e3"
    },
    {
      "cell_type": "markdown",
      "metadata": {
        "id": "c5ecc267"
      },
      "source": [
        "#### 16. How to add a border (filled with 0's) around an existing array? (★☆☆)"
      ],
      "id": "c5ecc267"
    },
    {
      "cell_type": "code",
      "execution_count": null,
      "metadata": {
        "colab": {
          "base_uri": "https://localhost:8080/"
        },
        "id": "9d5c78c4",
        "outputId": "66d49228-d4cd-4d42-c6c5-9fca66d086de"
      },
      "outputs": [
        {
          "name": "stdout",
          "output_type": "stream",
          "text": [
            "[[0. 0. 0. 0. 0. 0. 0. 0. 0. 0.]\n",
            " [0. 0. 0. 0. 0. 0. 0. 0. 0. 0.]\n",
            " [0. 0. 1. 1. 1. 1. 1. 1. 0. 0.]\n",
            " [0. 0. 1. 1. 1. 1. 1. 1. 0. 0.]\n",
            " [0. 0. 1. 1. 1. 1. 1. 1. 0. 0.]\n",
            " [0. 0. 1. 1. 1. 1. 1. 1. 0. 0.]\n",
            " [0. 0. 1. 1. 1. 1. 1. 1. 0. 0.]\n",
            " [0. 0. 1. 1. 1. 1. 1. 1. 0. 0.]\n",
            " [0. 0. 0. 0. 0. 0. 0. 0. 0. 0.]\n",
            " [0. 0. 0. 0. 0. 0. 0. 0. 0. 0.]]\n"
          ]
        }
      ],
      "source": [
        "arr = np.ones((6, 6))\n",
        "arr = np.pad(arr, 2)\n",
        "print(arr)"
      ],
      "id": "9d5c78c4"
    },
    {
      "cell_type": "markdown",
      "metadata": {
        "id": "ef909b72"
      },
      "source": [
        "#### 17. What is the result of the following expression? (★☆☆)\n",
        "```python\n",
        "0 * np.nan\n",
        "np.nan == np.nan\n",
        "np.inf > np.nan\n",
        "np.nan - np.nan\n",
        "np.nan in set([np.nan])\n",
        "0.3 == 3 * 0.1\n",
        "```"
      ],
      "id": "ef909b72"
    },
    {
      "cell_type": "code",
      "execution_count": null,
      "metadata": {
        "id": "3b4985f2",
        "outputId": "21fa026d-0bfc-4658-d063-5f952d161bed"
      },
      "outputs": [
        {
          "name": "stdout",
          "output_type": "stream",
          "text": [
            "nan\n",
            "False\n",
            "False\n",
            "nan\n",
            "True\n"
          ]
        }
      ],
      "source": [
        "print(0 * np.nan)\n",
        "print(np.nan == np.nan)\n",
        "print(np.inf > np.nan)\n",
        "print(np.nan - np.nan)\n",
        "print(np.nan in set([np.nan]))"
      ],
      "id": "3b4985f2"
    },
    {
      "cell_type": "markdown",
      "metadata": {
        "id": "502738ac"
      },
      "source": [
        "#### 18. Create a 5x5 matrix with values 1,2,3,4 just below the diagonal (★☆☆)"
      ],
      "id": "502738ac"
    },
    {
      "cell_type": "code",
      "execution_count": null,
      "metadata": {
        "id": "faed6e2b",
        "outputId": "202b4e20-f898-4967-8e35-d83d8c66465b"
      },
      "outputs": [
        {
          "name": "stdout",
          "output_type": "stream",
          "text": [
            "Before:\n",
            " [[ 0  1  2  3  4]\n",
            " [ 5  6  7  8  9]\n",
            " [10 11 12 13 14]\n",
            " [15 16 17 18 19]\n",
            " [20 21 22 23 24]]\n",
            "\n",
            "After:\n",
            " [[ 0  1  2  3  4]\n",
            " [ 1  6  7  8  9]\n",
            " [10  2 12 13 14]\n",
            " [15 16  3 18 19]\n",
            " [20 21 22  4 24]]\n"
          ]
        }
      ],
      "source": [
        "arr = np.arange(0, 25).reshape(5,5)\n",
        "print(\"Before:\\n\", arr)\n",
        "for i in range(1, arr.shape[0]):\n",
        "    for j in range(arr.shape[0]):\n",
        "        if i == j:\n",
        "            arr[i, j-1] = i\n",
        "\n",
        "print(\"\\nAfter:\\n\", arr)\n"
      ],
      "id": "faed6e2b"
    },
    {
      "cell_type": "markdown",
      "metadata": {
        "id": "a65da660"
      },
      "source": [
        "#### 19. Create a 8x8 matrix and fill it with a checkerboard pattern (★☆☆)"
      ],
      "id": "a65da660"
    },
    {
      "cell_type": "code",
      "execution_count": null,
      "metadata": {
        "colab": {
          "base_uri": "https://localhost:8080/"
        },
        "id": "ed150400",
        "outputId": "197592e4-08a5-433f-e040-4874d8fcb423"
      },
      "outputs": [
        {
          "name": "stdout",
          "output_type": "stream",
          "text": [
            "[[0. 1. 0. 1. 0. 1. 0. 1.]\n",
            " [1. 1. 1. 1. 1. 1. 1. 1.]\n",
            " [0. 1. 0. 1. 0. 1. 0. 1.]\n",
            " [1. 1. 1. 1. 1. 1. 1. 1.]\n",
            " [0. 1. 0. 1. 0. 1. 0. 1.]\n",
            " [1. 1. 1. 1. 1. 1. 1. 1.]\n",
            " [0. 1. 0. 1. 0. 1. 0. 1.]\n",
            " [1. 1. 1. 1. 1. 1. 1. 1.]]\n"
          ]
        }
      ],
      "source": [
        "checkerboard_pattern = np.ones((8,8))\n",
        "# checkerboard_pattern[0::2, 0::2] = 0\n",
        "print(checkerboard_pattern)"
      ],
      "id": "ed150400"
    },
    {
      "cell_type": "markdown",
      "metadata": {
        "id": "9f7f9c49"
      },
      "source": [
        "#### 20. Consider a (6,7,8) shape array, what is the index (x,y,z) of the 100th element? (★☆☆)"
      ],
      "id": "9f7f9c49"
    },
    {
      "cell_type": "code",
      "execution_count": null,
      "metadata": {
        "colab": {
          "base_uri": "https://localhost:8080/"
        },
        "id": "3782b5a9",
        "outputId": "b1b1d1c4-8e84-48d4-fb1a-6833c3807bc5"
      },
      "outputs": [
        {
          "name": "stdout",
          "output_type": "stream",
          "text": [
            "(1, 5, 3)\n"
          ]
        }
      ],
      "source": [
        "print(np.unravel_index(100 - 1 , (6,7,8)))"
      ],
      "id": "3782b5a9"
    },
    {
      "cell_type": "markdown",
      "metadata": {
        "id": "66bfda35"
      },
      "source": [
        "#### 21. Create a checkerboard 8x8 matrix using the tile function (★☆☆)"
      ],
      "id": "66bfda35"
    },
    {
      "cell_type": "code",
      "execution_count": null,
      "metadata": {
        "id": "4c07477c",
        "outputId": "11918dd7-7376-4613-e42b-0e3aa6b6c4af"
      },
      "outputs": [
        {
          "name": "stdout",
          "output_type": "stream",
          "text": [
            "[[1 0 1 0 1 0 1 0]\n",
            " [0 1 0 1 0 1 0 1]\n",
            " [1 0 1 0 1 0 1 0]\n",
            " [0 1 0 1 0 1 0 1]\n",
            " [1 0 1 0 1 0 1 0]\n",
            " [0 1 0 1 0 1 0 1]\n",
            " [1 0 1 0 1 0 1 0]\n",
            " [0 1 0 1 0 1 0 1]]\n"
          ]
        }
      ],
      "source": [
        "checkerboard = np.tile([[1,0], [0,1]], (4,4))\n",
        "print(checkerboard)"
      ],
      "id": "4c07477c"
    },
    {
      "cell_type": "markdown",
      "metadata": {
        "id": "d5bcfc08"
      },
      "source": [
        "#### 22. Normalize a 5x5 random matrix (★☆☆)"
      ],
      "id": "d5bcfc08"
    },
    {
      "cell_type": "code",
      "execution_count": null,
      "metadata": {
        "colab": {
          "base_uri": "https://localhost:8080/"
        },
        "id": "cea6c993",
        "outputId": "2c5699ec-c19a-4f98-afb2-aae45a29be2f"
      },
      "outputs": [
        {
          "name": "stderr",
          "output_type": "stream",
          "text": [
            "<ipython-input-27-b9f1a6f5df9c>:1: FutureWarning: Passing (type, 1) or '1type' as a synonym of type is deprecated; in a future version of numpy, it will be understood as (type, (1,)) / '(1,)type'.\n",
            "  color = np.dtype([(\"r\", np.ubyte, 1),\n"
          ]
        }
      ],
      "source": [],
      "id": "cea6c993"
    },
    {
      "cell_type": "markdown",
      "metadata": {
        "id": "f9a0911e"
      },
      "source": [
        "#### 23. Create a custom dtype that describes a color as four unsigned bytes (RGBA) (★☆☆)"
      ],
      "id": "f9a0911e"
    },
    {
      "cell_type": "code",
      "execution_count": null,
      "metadata": {
        "colab": {
          "base_uri": "https://localhost:8080/"
        },
        "id": "d165044b",
        "outputId": "c493c023-95b2-4f27-ef45-37b3f80ab5a4"
      },
      "outputs": [
        {
          "name": "stdout",
          "output_type": "stream",
          "text": [
            "[('red', 'u1', (1,)), ('green', 'u1', (1,)), ('bule', 'u1', (1,)), ('alpha', 'u1', (1,))]\n"
          ]
        }
      ],
      "source": [
        "rgba_martrix = np.dtype([(\"red\", np.ubyte, (1,)),\n",
        "                  (\"green\", np.ubyte, (1,)),\n",
        "                  (\"bule\", np.ubyte, (1,)),\n",
        "                  (\"alpha\", np.ubyte, (1,))])\n",
        "\n",
        "print(rgba_martrix)"
      ],
      "id": "d165044b"
    },
    {
      "cell_type": "markdown",
      "metadata": {
        "id": "654805b1"
      },
      "source": [
        "#### 24. Multiply a 5x3 matrix by a 3x2 matrix (real matrix product) (★☆☆)"
      ],
      "id": "654805b1"
    },
    {
      "cell_type": "code",
      "execution_count": null,
      "metadata": {
        "colab": {
          "base_uri": "https://localhost:8080/"
        },
        "id": "6a42619f",
        "outputId": "47e897bc-1f45-49c2-cd6c-fec9718323a5"
      },
      "outputs": [
        {
          "name": "stdout",
          "output_type": "stream",
          "text": [
            "5x3 Matrix:\n",
            " [[ 1  2  3]\n",
            " [ 4  5  6]\n",
            " [ 7  8  9]\n",
            " [10 11 12]\n",
            " [13 14 15]]\n",
            "\n",
            "3x2 Matrix:\n",
            " [[1 2]\n",
            " [3 4]\n",
            " [5 6]]\n",
            "\n",
            "Dot Product Result 5X2 Matrix:\n",
            "[[ 22  28]\n",
            " [ 49  64]\n",
            " [ 76 100]\n",
            " [103 136]\n",
            " [130 172]]\n"
          ]
        }
      ],
      "source": [
        "matrix_5x3 = np.arange(1, 16).reshape(5,3)\n",
        "matrix_3x2 = np.arange(1, 7).reshape(3,2)\n",
        "print(f\"5x3 Matrix:\\n {matrix_5x3}\")\n",
        "print()\n",
        "print(f\"3x2 Matrix:\\n {matrix_3x2}\")\n",
        "print()\n",
        "print(f\"Dot Product Result {matrix_5x3.shape[0]}X{matrix_3x2.shape[-1]} Matrix:\\n{matrix_5x3.dot(matrix_3x2)}\")"
      ],
      "id": "6a42619f"
    },
    {
      "cell_type": "markdown",
      "metadata": {
        "id": "994c25df"
      },
      "source": [
        "#### 25. Given a 1D array, negate all elements which are between 3 and 8, in place. (★☆☆)"
      ],
      "id": "994c25df"
    },
    {
      "cell_type": "code",
      "execution_count": null,
      "metadata": {
        "colab": {
          "base_uri": "https://localhost:8080/"
        },
        "id": "e4b39c03",
        "outputId": "582b6774-b9b9-4bf9-8305-8f68858555d7"
      },
      "outputs": [
        {
          "name": "stdout",
          "output_type": "stream",
          "text": [
            "After Negating: [ 0  1  2  3 -4 -5 -6 -7  8  9 10 11 12 13 14]\n"
          ]
        }
      ],
      "source": [
        "one_d_arr = np.arange(0, 15)\n",
        "one_d_arr[3+1: 8] = one_d_arr[3+1: 8] * -1\n",
        "\n",
        "print(f\"After Negating: {one_d_arr}\")"
      ],
      "id": "e4b39c03"
    },
    {
      "cell_type": "markdown",
      "metadata": {
        "id": "b7d15d1a"
      },
      "source": [
        "#### 26. What is the output of the following script? (★☆☆)\n",
        "```python\n",
        "# Author: Jake VanderPlas\n",
        "\n",
        "print(sum(range(5),-1))\n",
        "from numpy import *\n",
        "print(sum(range(5),-1))\n",
        "```"
      ],
      "id": "b7d15d1a"
    },
    {
      "cell_type": "code",
      "execution_count": null,
      "metadata": {
        "colab": {
          "base_uri": "https://localhost:8080/"
        },
        "id": "4c95bc3f",
        "outputId": "5bd82ed3-9bc6-4838-9f89-d5e0e115ce8e"
      },
      "outputs": [
        {
          "name": "stdout",
          "output_type": "stream",
          "text": [
            "10\n",
            "10\n"
          ]
        }
      ],
      "source": [
        "print(sum(range(5),-1))\n",
        "from numpy import *\n",
        "print(sum(range(5),-1))\n"
      ],
      "id": "4c95bc3f"
    },
    {
      "cell_type": "markdown",
      "metadata": {
        "id": "a34f0d08"
      },
      "source": [
        "#### 27. Consider an integer vector Z, which of these expressions are legal? (★☆☆)\n",
        "```python\n",
        "Z**Z\n",
        "2 << Z >> 2\n",
        "Z <- Z\n",
        "1j*Z\n",
        "Z/1/1\n",
        "Z<Z>Z\n",
        "```"
      ],
      "id": "a34f0d08"
    },
    {
      "cell_type": "code",
      "execution_count": null,
      "metadata": {
        "colab": {
          "base_uri": "https://localhost:8080/"
        },
        "id": "564658fc",
        "outputId": "722d2b7d-613a-4e4b-ea7a-cefb1af40a63"
      },
      "outputs": [
        {
          "name": "stdout",
          "output_type": "stream",
          "text": [
            "[ 1  2  4 16  8 64]\n"
          ]
        }
      ],
      "source": [
        "z = np.array([1,2,3,5,4,7])\n",
        "\n",
        "print(2 << z >> 2)"
      ],
      "id": "564658fc"
    },
    {
      "cell_type": "markdown",
      "metadata": {
        "id": "c34e94bf"
      },
      "source": [
        "#### 28. What are the result of the following expressions? (★☆☆)\n",
        "```python\n",
        "np.array(0) / np.array(0)\n",
        "np.array(0) // np.array(0)\n",
        "np.array([np.nan]).astype(int).astype(float)\n",
        "```"
      ],
      "id": "c34e94bf"
    },
    {
      "cell_type": "code",
      "execution_count": null,
      "metadata": {
        "colab": {
          "base_uri": "https://localhost:8080/"
        },
        "id": "56663562",
        "outputId": "3a475c59-aef3-4dd7-fffd-90e5773a7127"
      },
      "outputs": [
        {
          "name": "stdout",
          "output_type": "stream",
          "text": [
            "nan\n",
            "0\n",
            "[-9.22337204e+18]\n"
          ]
        },
        {
          "name": "stderr",
          "output_type": "stream",
          "text": [
            "<ipython-input-85-72dab2b1b7c8>:1: RuntimeWarning: invalid value encountered in divide\n",
            "  print(np.array(0) / np.array(0))\n",
            "<ipython-input-85-72dab2b1b7c8>:3: RuntimeWarning: divide by zero encountered in floor_divide\n",
            "  print(np.array(0) // np.array(0))\n"
          ]
        }
      ],
      "source": [
        "print(np.array(0) / np.array(0))\n",
        "\n",
        "print(np.array(0) // np.array(0))\n",
        "\n",
        "print(np.array([np.nan]).astype(int).astype(float))"
      ],
      "id": "56663562"
    },
    {
      "cell_type": "markdown",
      "metadata": {
        "id": "546f5e7b"
      },
      "source": [
        "#### 29. How to round away from zero a float array ? (★☆☆)"
      ],
      "id": "546f5e7b"
    },
    {
      "cell_type": "code",
      "execution_count": null,
      "metadata": {
        "colab": {
          "base_uri": "https://localhost:8080/"
        },
        "id": "f725a6d2",
        "outputId": "8bcedeb8-e14b-4aba-e597-ae55f010890c"
      },
      "outputs": [
        {
          "name": "stdout",
          "output_type": "stream",
          "text": [
            "Before Rounding: \n",
            "[[ 1.5  2.5  3.5  4.5  5.5  6.5  7.5]\n",
            " [ 8.5  9.5 10.5 11.5 12.5 13.5 14.5]]\n",
            "After  Rounding: \n",
            "[[ 2.  2.  4.  4.  6.  6.  8.]\n",
            " [ 8. 10. 10. 12. 12. 14. 14.]]\n"
          ]
        }
      ],
      "source": [
        "arr = np.arange(1.5, 15.5).reshape(2, 7)\n",
        "print(f\"Before Rounding: \\n{arr}\")\n",
        "arr = np.round(arr)\n",
        "print(f\"After  Rounding: \\n{arr}\")"
      ],
      "id": "f725a6d2"
    },
    {
      "cell_type": "markdown",
      "metadata": {
        "id": "eadca856"
      },
      "source": [
        "#### 30. How to find common values between two arrays? (★☆☆)"
      ],
      "id": "eadca856"
    },
    {
      "cell_type": "code",
      "execution_count": null,
      "metadata": {
        "colab": {
          "base_uri": "https://localhost:8080/"
        },
        "id": "e0270b5b",
        "outputId": "78392f1f-e382-4576-f837-1f5ea56d9b8a"
      },
      "outputs": [
        {
          "name": "stdout",
          "output_type": "stream",
          "text": [
            "[[12  7 18  3]\n",
            " [ 4  4 13 17]\n",
            " [23 18 21  6]]\n",
            "\n",
            "[[18  7 16 15]\n",
            " [ 5 13 17 18]\n",
            " [23  8  9  8]]\n",
            "\n",
            "[ 7 13 17 18 23]\n"
          ]
        }
      ],
      "source": [
        "np.random.seed(12)\n",
        "arr_1 = np.random.randint(1, 25, size=(3, 4))\n",
        "arr_2 = np.random.randint(5, 25, size=(3, 4))\n",
        "print(arr_1)\n",
        "print()\n",
        "print(arr_2)\n",
        "print()\n",
        "common_elements = np.intersect1d(arr_1, arr_2)\n",
        "print(common_elements)"
      ],
      "id": "e0270b5b"
    },
    {
      "cell_type": "markdown",
      "metadata": {
        "id": "ca16ca22"
      },
      "source": [
        "#### 31. How to ignore all numpy warnings (not recommended)? (★☆☆)"
      ],
      "id": "ca16ca22"
    },
    {
      "cell_type": "code",
      "execution_count": null,
      "metadata": {
        "id": "7d7208ef"
      },
      "outputs": [],
      "source": [],
      "id": "7d7208ef"
    },
    {
      "cell_type": "markdown",
      "metadata": {
        "id": "c7871d0d"
      },
      "source": [
        "#### 32. Is the following expressions true? (★☆☆)\n",
        "```python\n",
        "np.sqrt(-1) == np.emath.sqrt(-1)\n",
        "```"
      ],
      "id": "c7871d0d"
    },
    {
      "cell_type": "code",
      "execution_count": null,
      "metadata": {
        "colab": {
          "base_uri": "https://localhost:8080/"
        },
        "id": "acc3701a",
        "outputId": "8518601c-44e2-438f-c017-b1e1fe4b0168"
      },
      "outputs": [
        {
          "name": "stderr",
          "output_type": "stream",
          "text": [
            "<ipython-input-26-16339fbc685e>:1: RuntimeWarning: invalid value encountered in sqrt\n",
            "  np.sqrt(-1) == np.emath.sqrt(-1)\n"
          ]
        },
        {
          "data": {
            "text/plain": [
              "False"
            ]
          },
          "execution_count": 26,
          "metadata": {},
          "output_type": "execute_result"
        }
      ],
      "source": [
        "np.sqrt(-1) == np.emath.sqrt(-1)"
      ],
      "id": "acc3701a"
    },
    {
      "cell_type": "markdown",
      "metadata": {
        "id": "e0433e30"
      },
      "source": [
        "#### 33. How to get the dates of yesterday, today and tomorrow? (★☆☆)"
      ],
      "id": "e0433e30"
    },
    {
      "cell_type": "code",
      "execution_count": null,
      "metadata": {
        "colab": {
          "base_uri": "https://localhost:8080/"
        },
        "id": "9c4d2152",
        "outputId": "3aacb73f-07e1-4adb-ae51-dc0f20a9d12c"
      },
      "outputs": [
        {
          "name": "stdout",
          "output_type": "stream",
          "text": [
            "Today: 2023-09-26\n",
            "Yestraday: 2023-09-25\n",
            "Tomorrow: 2023-09-27\n"
          ]
        }
      ],
      "source": [
        "today     = np.datetime64('today', 'D')\n",
        "yesterday = np.datetime64('today', 'D') - np.timedelta64(1, 'D')\n",
        "tomorrow  = np.datetime64('today', 'D') + np.timedelta64(1, 'D')\n",
        "print(f\"Today: {today}\")\n",
        "print(f\"Yestraday: {yesterday}\")\n",
        "print(f\"Tomorrow: {tomorrow}\")"
      ],
      "id": "9c4d2152"
    },
    {
      "cell_type": "markdown",
      "metadata": {
        "id": "9f52a2ef"
      },
      "source": [
        "#### 34. How to get all the dates corresponding to the month of July 2016? (★★☆)"
      ],
      "id": "9f52a2ef"
    },
    {
      "cell_type": "code",
      "execution_count": null,
      "metadata": {
        "colab": {
          "base_uri": "https://localhost:8080/"
        },
        "id": "d6c34dec",
        "outputId": "8bf71feb-3a88-493b-92b7-9722dc083069"
      },
      "outputs": [
        {
          "name": "stdout",
          "output_type": "stream",
          "text": [
            "July Month Calendr\n",
            "['2016-07-01' '2016-07-02' '2016-07-03' '2016-07-04' '2016-07-05'\n",
            " '2016-07-06' '2016-07-07' '2016-07-08' '2016-07-09' '2016-07-10'\n",
            " '2016-07-11' '2016-07-12' '2016-07-13' '2016-07-14' '2016-07-15'\n",
            " '2016-07-16' '2016-07-17' '2016-07-18' '2016-07-19' '2016-07-20'\n",
            " '2016-07-21' '2016-07-22' '2016-07-23' '2016-07-24' '2016-07-25'\n",
            " '2016-07-26' '2016-07-27' '2016-07-28' '2016-07-29' '2016-07-30'\n",
            " '2016-07-31']\n"
          ]
        }
      ],
      "source": [
        "print(\"July Month Calendr\")\n",
        "print(np.arange('2016-07', '2016-08', dtype='datetime64[D]'))"
      ],
      "id": "d6c34dec"
    },
    {
      "cell_type": "markdown",
      "metadata": {
        "id": "4a64e059"
      },
      "source": [
        "#### 35. How to compute ((A+B)*(-A/2)) in place (without copy)? (★★☆)"
      ],
      "id": "4a64e059"
    },
    {
      "cell_type": "code",
      "execution_count": null,
      "metadata": {
        "colab": {
          "base_uri": "https://localhost:8080/"
        },
        "id": "49267f60",
        "outputId": "336981ce-5d3f-4d95-9808-c64806b73431"
      },
      "outputs": [
        {
          "name": "stdout",
          "output_type": "stream",
          "text": [
            "[ -2.  -6. -12. -20.]\n"
          ]
        }
      ],
      "source": [
        "arr_A = np.arange(1, 5)\n",
        "arr_B = np.arange(3, 7)\n",
        "\n",
        "print(f\"{((arr_A + arr_B) * (-arr_A / 2))}\")"
      ],
      "id": "49267f60"
    },
    {
      "cell_type": "markdown",
      "metadata": {
        "id": "8a98c2a8"
      },
      "source": [
        "#### 36. Extract the integer part of a random array of positive numbers using 4 different methods (★★☆)"
      ],
      "id": "8a98c2a8"
    },
    {
      "cell_type": "code",
      "execution_count": null,
      "metadata": {
        "colab": {
          "base_uri": "https://localhost:8080/"
        },
        "id": "368130b3",
        "outputId": "610b0281-28cc-4629-834d-513a1b8372cb"
      },
      "outputs": [
        {
          "name": "stdout",
          "output_type": "stream",
          "text": [
            "[64.41435361 38.07484896 66.30479053 16.36507261 96.26078137 34.66618404]\n",
            "1) [64. 38. 66. 16. 96. 34.]\n",
            "2) [64. 38. 66. 16. 96. 34.]\n",
            "3) [64. 38. 66. 16. 96. 34.]\n",
            "4) [64 38 66 16 96 34]\n"
          ]
        }
      ],
      "source": [
        "np.random.seed(30)\n",
        "random_array = np.random.rand(6)*100\n",
        "\n",
        "print(random_array)\n",
        "print(f\"1) {np.trunc(random_array)}\") # remove fraction\n",
        "print(f\"2) {np.floor(random_array)}\") # get integer number\n",
        "print(f\"3) {np.fix(random_array)}\") # get integer number\n",
        "print(f\"4) {random_array.astype(int)}\") # remove fraction and get the integer"
      ],
      "id": "368130b3"
    },
    {
      "cell_type": "markdown",
      "metadata": {
        "id": "5a2e3d85"
      },
      "source": [
        "#### 37. Create a 5x5 matrix with row values ranging from 0 to 4 (★★☆)"
      ],
      "id": "5a2e3d85"
    },
    {
      "cell_type": "code",
      "execution_count": null,
      "metadata": {
        "colab": {
          "base_uri": "https://localhost:8080/"
        },
        "id": "1d974e8f",
        "outputId": "08558914-e306-4f31-cc13-ec77590c685a"
      },
      "outputs": [
        {
          "name": "stdout",
          "output_type": "stream",
          "text": [
            "[[0 1 2 3 4]\n",
            " [0 1 2 3 4]\n",
            " [0 1 2 3 4]\n",
            " [0 1 2 3 4]\n",
            " [0 1 2 3 4]]\n"
          ]
        }
      ],
      "source": [
        "arr = np.tile(np.arange(0, 5), 5).reshape(5,5)\n",
        "print(arr)"
      ],
      "id": "1d974e8f"
    },
    {
      "cell_type": "markdown",
      "metadata": {
        "id": "9720e2d5"
      },
      "source": [
        "#### 38. Consider a generator function that generates 10 integers and use it to build an array (★☆☆)"
      ],
      "id": "9720e2d5"
    },
    {
      "cell_type": "code",
      "execution_count": null,
      "metadata": {
        "colab": {
          "base_uri": "https://localhost:8080/"
        },
        "id": "e5dd8fc9",
        "outputId": "02d95e1e-f57f-49e6-dcf1-15e33a201cf0"
      },
      "outputs": [
        {
          "name": "stdout",
          "output_type": "stream",
          "text": [
            "[0 1 2 3 4 5 6 7 8 9]\n"
          ]
        }
      ],
      "source": [
        "def generator():\n",
        "    l =[]\n",
        "    for i in range(10):\n",
        "        l.append(i)\n",
        "    return l\n",
        "\n",
        "arr = np.array(generator())\n",
        "print(arr)"
      ],
      "id": "e5dd8fc9"
    },
    {
      "cell_type": "markdown",
      "metadata": {
        "id": "c6f2c912"
      },
      "source": [
        "#### 39. Create a vector of size 10 with values ranging from 0 to 1, both excluded (★★☆)"
      ],
      "id": "c6f2c912"
    },
    {
      "cell_type": "code",
      "execution_count": null,
      "metadata": {
        "colab": {
          "base_uri": "https://localhost:8080/"
        },
        "id": "6aaa27d3",
        "outputId": "41f1af8d-a92d-4c4b-d177-2a65d6d57740"
      },
      "outputs": [
        {
          "name": "stdout",
          "output_type": "stream",
          "text": [
            "[0.0909 0.1818 0.2727 0.3636 0.4545 0.5455 0.6364 0.7273 0.8182 0.9091]\n"
          ]
        }
      ],
      "source": [
        "vector_0_1 = np.linspace(0, 1, 12)[1:-1]\n",
        "print(np.round(vector_0_1, 4))"
      ],
      "id": "6aaa27d3"
    },
    {
      "cell_type": "markdown",
      "metadata": {
        "id": "a36d6ee4"
      },
      "source": [
        "#### 40. Create a random vector of size 10 and sort it (★★☆)"
      ],
      "id": "a36d6ee4"
    },
    {
      "cell_type": "code",
      "execution_count": null,
      "metadata": {
        "colab": {
          "base_uri": "https://localhost:8080/"
        },
        "id": "e589d216",
        "outputId": "f73c14b8-6bdd-4edc-d91a-22ba5ca967f5"
      },
      "outputs": [
        {
          "name": "stdout",
          "output_type": "stream",
          "text": [
            "[ 1  2  3  5  7  7 14 17 20 22]\n"
          ]
        }
      ],
      "source": [
        "np.random.seed(26)\n",
        "arr = np.sort(np.random.randint(1, 26, 10))\n",
        "print(arr)"
      ],
      "id": "e589d216"
    },
    {
      "cell_type": "markdown",
      "metadata": {
        "id": "0fb4ad68"
      },
      "source": [
        "#### 41. How to sum a small array faster than np.sum? (★★☆)"
      ],
      "id": "0fb4ad68"
    },
    {
      "cell_type": "code",
      "execution_count": null,
      "metadata": {
        "colab": {
          "base_uri": "https://localhost:8080/"
        },
        "id": "a1ba05a0",
        "outputId": "972233be-87df-40e4-f234-c59498a6da9c"
      },
      "outputs": [
        {
          "name": "stdout",
          "output_type": "stream",
          "text": [
            "[[ 9  6]\n",
            " [13  6]\n",
            " [ 8  1]]\n",
            "Sum By Rows: [30 13]\n",
            "Sum By Columns: \n",
            "[[15]\n",
            " [19]\n",
            " [ 9]]\n",
            "Total Sum: 43\n"
          ]
        }
      ],
      "source": [
        "np.random.seed(15)\n",
        "arr = np.random.randint(1, 15, size = (3, 2))\n",
        "sum_arr = np.add.reduce(arr.flatten()) # converting the array to vector and sum all elements\n",
        "print(arr)\n",
        "print(f\"Sum By Rows: {np.add.reduce(arr)}\")\n",
        "print(f\"Sum By Columns: \\n{np.add.reduce(arr, 1).reshape(3, 1)}\")\n",
        "print(f\"Total Sum: {sum_arr}\")"
      ],
      "id": "a1ba05a0"
    },
    {
      "cell_type": "markdown",
      "metadata": {
        "id": "024ac365"
      },
      "source": [
        "#### 42. Consider two random array A and B, check if they are equal (★★☆)"
      ],
      "id": "024ac365"
    },
    {
      "cell_type": "code",
      "execution_count": null,
      "metadata": {
        "colab": {
          "base_uri": "https://localhost:8080/"
        },
        "id": "7db3846d",
        "outputId": "6bbd6229-449d-4c3b-8554-41919abc7274"
      },
      "outputs": [
        {
          "name": "stdout",
          "output_type": "stream",
          "text": [
            "[[ 1  4 50  6]\n",
            " [ 5 56 34 32]]\n",
            "\n",
            "[[ 1  4 50  6]\n",
            " [ 5 56 34 32]]\n",
            "Equal\n"
          ]
        }
      ],
      "source": [
        "# Test 1\n",
        "np.random.seed(51)\n",
        "A = np.random.randint(1, 15, size = (3, 2))\n",
        "B = np.random.randint(1, 15, size = (3, 2))\n",
        "\n",
        "# Test 2\n",
        "np.random.seed(51)\n",
        "A = np.array([[1, 4, 50, 6], [5, 56, 34, 32]])\n",
        "B = np.array([[1, 4, 50, 6], [5, 56, 34, 32]])\n",
        "\n",
        "print(A)\n",
        "print()\n",
        "print(B)\n",
        "print(\"Equal\" if np.array_equal(A, B) else \"Not Equal\")"
      ],
      "id": "7db3846d"
    },
    {
      "cell_type": "markdown",
      "metadata": {
        "id": "c68d2401"
      },
      "source": [
        "#### 43. Make an array immutable (read-only) (★★☆)"
      ],
      "id": "c68d2401"
    },
    {
      "cell_type": "code",
      "execution_count": null,
      "metadata": {
        "colab": {
          "base_uri": "https://localhost:8080/"
        },
        "id": "7828539d",
        "outputId": "9bf66dff-0ce8-46cd-d7f2-cb4350609d7a"
      },
      "outputs": [
        {
          "name": "stdout",
          "output_type": "stream",
          "text": [
            "[[14  6]\n",
            " [ 9  5]]\n",
            "Can't Change The Value Immutable Array\n"
          ]
        }
      ],
      "source": [
        "np.random.seed(46)\n",
        "arr = np.random.randint(1, 15, size = (2, 2))\n",
        "print(arr)\n",
        "\n",
        "arr.flags.writeable = False\n",
        "try:\n",
        "    arr[0] = 30\n",
        "    print(arr)\n",
        "except:\n",
        "    print(\"Can't Change The Value Immutable Array\")\n",
        "\n"
      ],
      "id": "7828539d"
    },
    {
      "cell_type": "markdown",
      "metadata": {
        "id": "55df6280"
      },
      "source": [
        "#### 44. Consider a random 10x2 matrix representing cartesian coordinates, convert them to polar coordinates (★★☆)"
      ],
      "id": "55df6280"
    },
    {
      "cell_type": "code",
      "execution_count": null,
      "metadata": {
        "colab": {
          "base_uri": "https://localhost:8080/"
        },
        "id": "f1c86ea0",
        "outputId": "933dd5f1-a7fa-4776-cb98-21467689d69d"
      },
      "outputs": [
        {
          "name": "stdout",
          "output_type": "stream",
          "text": [
            "Polar Coordinates:\n",
            "  r  \t     angle_ceta\n",
            "[[0.56882228 1.16739402]\n",
            " [0.55258631 0.08261853]\n",
            " [0.42413488 0.55385166]\n",
            " [0.70792069 0.23339827]\n",
            " [0.94363501 1.49620167]\n",
            " [0.56905141 0.13748952]\n",
            " [0.73980835 0.2158523 ]\n",
            " [0.38571428 0.86468809]\n",
            " [0.83714254 0.58786042]\n",
            " [0.49588853 1.12221185]]\n"
          ]
        }
      ],
      "source": [
        "# Hint Link: https://www.mathsisfun.com/polar-cartesian-coordinates.html\n",
        "# https://numpy.org/doc/stable/reference/generated/numpy.arctan.html\n",
        "\n",
        "np.random.seed(16)\n",
        "cartesian_arr = np.random.random((10, 2))\n",
        "x_cords = cartesian_arr[:, 0]\n",
        "y_cords = cartesian_arr[:, 1]\n",
        "r_power_2 = np.power(x_cords, 2) +  np.power(y_cords, 2)\n",
        "r = np.sqrt(r_power_2).reshape(10, 1)\n",
        "angle_ceta = np.arctan2(y_cords, x_cords).reshape(10, 1)\n",
        "polar_arr = np.append(r, angle_ceta, 1)\n",
        "print(\"Polar Coordinates:\")\n",
        "print(\"  r  \\t     angle_ceta\")\n",
        "print(polar_arr)\n",
        "# polar_arr = np.concatenate(r, angle_ceta)\n"
      ],
      "id": "f1c86ea0"
    },
    {
      "cell_type": "markdown",
      "metadata": {
        "id": "2f60f1ec"
      },
      "source": [
        "#### 45. Create random vector of size 10 and replace the maximum value by 0 (★★☆)"
      ],
      "id": "2f60f1ec"
    },
    {
      "cell_type": "code",
      "execution_count": null,
      "metadata": {
        "colab": {
          "base_uri": "https://localhost:8080/"
        },
        "id": "d9f48f1c",
        "outputId": "4f07d2fe-1f79-4dc1-b888-5df84ba77c91"
      },
      "outputs": [
        {
          "name": "stdout",
          "output_type": "stream",
          "text": [
            "[10  5 16  1 18 17 18  9 10  1]\n",
            "[10  5 16  1  0 17 18  9 10  1]\n"
          ]
        }
      ],
      "source": [
        "np.random.seed(10)\n",
        "random_v = np.random.randint(1, 20, 10)\n",
        "print(random_v)\n",
        "max_index = random_v.argmax()\n",
        "random_v[max_index] = 0\n",
        "print(random_v)"
      ],
      "id": "d9f48f1c"
    },
    {
      "cell_type": "markdown",
      "metadata": {
        "id": "084e8ad4"
      },
      "source": [
        "#### 46. Create a structured array with `x` and `y` coordinates covering the [0,1]x[0,1] area (★★☆)"
      ],
      "id": "084e8ad4"
    },
    {
      "cell_type": "code",
      "execution_count": null,
      "metadata": {
        "id": "58b47c13"
      },
      "outputs": [],
      "source": [],
      "id": "58b47c13"
    },
    {
      "cell_type": "markdown",
      "metadata": {
        "id": "d7b9bc42"
      },
      "source": [
        "#### 47. Given two arrays, X and Y, construct the Cauchy matrix C (Cij =1/(xi - yj)) (★★☆)"
      ],
      "id": "d7b9bc42"
    },
    {
      "cell_type": "code",
      "execution_count": null,
      "metadata": {
        "colab": {
          "base_uri": "https://localhost:8080/"
        },
        "id": "a24824fb",
        "outputId": "b157d843-cd6c-4f5d-f9f2-afb011b201f0"
      },
      "outputs": [
        {
          "name": "stdout",
          "output_type": "stream",
          "text": [
            "[0 1 2 3 4]\n",
            "\n",
            "[0.5 1.5 2.5 3.5 4.5]\n",
            "\n",
            "[[-2.     -0.6667 -0.4    -0.2857 -0.2222]\n",
            " [ 2.     -2.     -0.6667 -0.4    -0.2857]\n",
            " [ 0.6667  2.     -2.     -0.6667 -0.4   ]\n",
            " [ 0.4     0.6667  2.     -2.     -0.6667]\n",
            " [ 0.2857  0.4     0.6667  2.     -2.    ]]\n"
          ]
        }
      ],
      "source": [
        "arr_x = np.arange(5)\n",
        "arr_y = arr_x + 0.5\n",
        "arr_c = np.round(1.0 / np.subtract.outer(arr_x, arr_y), 4)\n",
        "print(arr_x)\n",
        "print()\n",
        "print(arr_y)\n",
        "print()\n",
        "print(arr_c)\n"
      ],
      "id": "a24824fb"
    },
    {
      "cell_type": "markdown",
      "metadata": {
        "id": "65ebc11b"
      },
      "source": [
        "#### 48. Print the minimum and maximum representable value for each numpy scalar type (★★☆)"
      ],
      "id": "65ebc11b"
    },
    {
      "cell_type": "code",
      "execution_count": null,
      "metadata": {
        "colab": {
          "base_uri": "https://localhost:8080/"
        },
        "id": "e45d38fb",
        "outputId": "3c48a7c8-70f8-4a84-ab9d-b401e6ec18f3"
      },
      "outputs": [
        {
          "name": "stdout",
          "output_type": "stream",
          "text": [
            "Datatype: <class 'numpy.int8'>\n",
            "Min Value: -128\n",
            "Max Value: 127\n",
            "--------------------\n",
            "Datatype: <class 'numpy.int32'>\n",
            "Min Value: -2147483648\n",
            "Max Value: 2147483647\n",
            "--------------------\n",
            "Datatype: <class 'numpy.int64'>\n",
            "Min Value: -9223372036854775808\n",
            "Max Value: 9223372036854775807\n",
            "--------------------\n",
            "Datatype: <class 'numpy.float32'>\n",
            "Min Value: -3.4028234663852886e+38\n",
            "Max Value: 3.4028234663852886e+38\n",
            "--------------------\n",
            "Datatype: <class 'numpy.float64'>\n",
            "Min Value: -1.7976931348623157e+308\n",
            "Max Value: 1.7976931348623157e+308\n",
            "--------------------\n"
          ]
        }
      ],
      "source": [
        "int_dtype = [np.int8, np.int32, np.int64]\n",
        "float_dtype = [np.float32, np.float64]\n",
        "\n",
        "for d in int_dtype:\n",
        "    print(f\"Datatype: {d}\")\n",
        "    print(f\"Min Value: {np.iinfo(d).min}\")\n",
        "    print(f\"Max Value: {np.iinfo(d).max}\")\n",
        "    print(\"-\"*20)\n",
        "\n",
        "\n",
        "for d in float_dtype:\n",
        "    print(f\"Datatype: {d}\")\n",
        "    print(f\"Min Value: {np.finfo(d).min}\")\n",
        "    print(f\"Max Value: {np.finfo(d).max}\")\n",
        "    print(\"-\"*20)"
      ],
      "id": "e45d38fb"
    },
    {
      "cell_type": "markdown",
      "metadata": {
        "id": "9b317a98"
      },
      "source": [
        "#### 49. How to print all the values of an array? (★★☆)"
      ],
      "id": "9b317a98"
    },
    {
      "cell_type": "code",
      "execution_count": null,
      "metadata": {
        "colab": {
          "base_uri": "https://localhost:8080/"
        },
        "id": "309cdeb9",
        "outputId": "89ba5d02-4be7-4753-8332-1ce5415ecb80"
      },
      "outputs": [
        {
          "name": "stdout",
          "output_type": "stream",
          "text": [
            "[[10 24 19 36 27 15 11 22 32 10]\n",
            " [17 10 36 29 28 17 15 39 11 38]\n",
            " [16 31 33 37 13 16 44 37 18 18]\n",
            " [20 30 14 33 11 17 18 34 31 33]\n",
            " [28 29 24 42 33 33 44 42 27 42]\n",
            " [42 28 14 12 25 17 43 15 20 38]\n",
            " [27 18 16 26 30 13 22 22 11 28]\n",
            " [33 34 18 26 31 29 41 13 44 35]\n",
            " [24 19 17 32 43 41 44 15 24 22]\n",
            " [26 38 30 28 19 44 16 40 13 17]]\n"
          ]
        }
      ],
      "source": [
        "arr = np.random.randint(10, 45, size = (10, 10))\n",
        "print(arr)"
      ],
      "id": "309cdeb9"
    },
    {
      "cell_type": "markdown",
      "metadata": {
        "id": "b580f9d0"
      },
      "source": [
        "#### 50. How to find the closest value (to a given scalar) in a vector? (★★☆)"
      ],
      "id": "b580f9d0"
    },
    {
      "cell_type": "code",
      "execution_count": null,
      "metadata": {
        "colab": {
          "base_uri": "https://localhost:8080/"
        },
        "id": "ebfb6714",
        "outputId": "8ad3ab8f-6d9e-4324-870b-0bc1a5f72ee1"
      },
      "outputs": [
        {
          "name": "stdout",
          "output_type": "stream",
          "text": [
            "Vector:\n",
            "[ 0  1  2  3  4  5  6  7  8  9 10 11 12 13 14 15 16 17 18 19 20 21 22 23\n",
            " 24 25 26 27 28 29]\n",
            "Value to compare:\n",
            "12.605489014223215\n",
            "The Cloasest Value is: 13\n"
          ]
        }
      ],
      "source": [
        "np.random.seed(54)\n",
        "arr = np.arange(30)\n",
        "print(\"Vector:\")\n",
        "print(arr)\n",
        "\n",
        "rand_val = np.random.random()*30\n",
        "print(\"Value to compare:\")\n",
        "print(rand_val)\n",
        "\n",
        "index = (np.abs(arr-rand_val)).argmin()\n",
        "print(f\"The Cloasest Value is: {arr[index]}\")"
      ],
      "id": "ebfb6714"
    },
    {
      "cell_type": "markdown",
      "metadata": {
        "id": "602e6252"
      },
      "source": [
        "#### 51. Create a structured array representing a position (x,y) and a color (r,g,b) (★★☆)"
      ],
      "id": "602e6252"
    },
    {
      "cell_type": "code",
      "execution_count": null,
      "metadata": {
        "id": "cf002b3a"
      },
      "outputs": [],
      "source": [],
      "id": "cf002b3a"
    },
    {
      "cell_type": "markdown",
      "metadata": {
        "id": "78bcd92f"
      },
      "source": [
        "#### 52. Consider a random vector with shape (100,2) representing coordinates, find point by point distances (★★☆)"
      ],
      "id": "78bcd92f"
    },
    {
      "cell_type": "code",
      "execution_count": null,
      "metadata": {
        "colab": {
          "base_uri": "https://localhost:8080/"
        },
        "id": "fea7f9a6",
        "outputId": "bbe2982d-f69e-4212-9e6c-ed1f8db30d11"
      },
      "outputs": [
        {
          "name": "stdout",
          "output_type": "stream",
          "text": [
            "[[ 0.         58.24946352 41.67733197 ... 72.83543094 11.70469991\n",
            "   7.21110255]\n",
            " [58.24946352  0.         60.         ... 63.19810124 48.70318265\n",
            "  55.97320788]\n",
            " [41.67733197 60.          0.         ... 34.43835072 33.52610923\n",
            "  34.4818793 ]\n",
            " ...\n",
            " [72.83543094 63.19810124 34.43835072 ...  0.         62.36986452\n",
            "  65.7951366 ]\n",
            " [11.70469991 48.70318265 33.52610923 ... 62.36986452  0.\n",
            "   7.28010989]\n",
            " [ 7.21110255 55.97320788 34.4818793  ... 65.7951366   7.28010989\n",
            "   0.        ]]\n",
            "Size of The Result Arrays: 10000\n"
          ]
        }
      ],
      "source": [
        "# ****** Hint Linke *****\n",
        "# https://www.mathsisfun.com/algebra/distance-2-points.html\n",
        "np.random.seed(51)\n",
        "\n",
        "arr = np.random.randint(10, 101, size= (100, 2))\n",
        "point_x = arr[:, 0].reshape(1, 100)\n",
        "point_y = arr[:, 1].reshape(1, 100)\n",
        "\n",
        "X = np.power(point_x - np.transpose(point_x), 2)\n",
        "Y = np.power(point_y - np.transpose(point_y), 2)\n",
        "\n",
        "distance = np.sqrt(X + Y)\n",
        "print(distance)\n",
        "print(f\"Size of The Result Arrays: {distance.size}\")"
      ],
      "id": "fea7f9a6"
    },
    {
      "cell_type": "markdown",
      "metadata": {
        "id": "343c5a85"
      },
      "source": [
        "#### 53. How to convert a float (32 bits) array into an integer (32 bits) in place?"
      ],
      "id": "343c5a85"
    },
    {
      "cell_type": "code",
      "execution_count": null,
      "metadata": {
        "colab": {
          "base_uri": "https://localhost:8080/"
        },
        "id": "fc1b687b",
        "outputId": "fd6b638d-b4a1-4e32-b0dd-e8d905a5b978"
      },
      "outputs": [
        {
          "name": "stdout",
          "output_type": "stream",
          "text": [
            "[ 1.211212   2.211212   3.2112117  4.2112117  5.2112117  6.2112117\n",
            "  7.211211   8.211211   9.211211  10.211211  11.211211  12.211211\n",
            " 13.21121  ]\n",
            "[ 1  2  3  4  5  6  7  8  9 10 11 12 13]\n"
          ]
        }
      ],
      "source": [
        "arr_f = np.arange(1.211212, 13.2323254, dtype = np.float32)\n",
        "print(arr_f)\n",
        "print(arr_f.astype(np.int32))"
      ],
      "id": "fc1b687b"
    },
    {
      "cell_type": "markdown",
      "metadata": {
        "id": "a69e1ace"
      },
      "source": [
        "#### 54. How to read the following file? (★★☆)\n",
        "```\n",
        "1, 2, 3, 4, 5\n",
        "6,  ,  , 7, 8\n",
        " ,  , 9,10,11\n",
        "```"
      ],
      "id": "a69e1ace"
    },
    {
      "cell_type": "code",
      "execution_count": null,
      "metadata": {
        "colab": {
          "base_uri": "https://localhost:8080/"
        },
        "id": "1c7957d4",
        "outputId": "66e8c2f1-5dea-403f-f0d6-6d87212779af"
      },
      "outputs": [
        {
          "name": "stdout",
          "output_type": "stream",
          "text": [
            "[[ 1.  2.  3.  4.  5.]\n",
            " [ 6. nan nan  7.  8.]\n",
            " [nan nan  9. 10. 11.]]\n",
            "\n",
            "Comverting nan Value into 0\n",
            "\n",
            "[[ 1  2  3  4  5]\n",
            " [ 6  0  0  7  8]\n",
            " [ 0  0  9 10 11]]\n"
          ]
        }
      ],
      "source": [
        "txt_array = \"\"\"1, 2, 3, 4, 5\n",
        "6,  ,  , 7, 8\n",
        " ,  , 9,10,11\"\"\"\n",
        "\n",
        "f = open(\"numpy_arr.csv\", \"w\")\n",
        "f.write(txt_array)\n",
        "f.close()\n",
        "\n",
        "arr = np.genfromtxt(\"numpy_arr.csv\", delimiter=\",\")\n",
        "print(arr)\n",
        "print(\"\\nComverting nan Value into 0\\n\")\n",
        "print(arr.astype(np.int8))\n"
      ],
      "id": "1c7957d4"
    },
    {
      "cell_type": "markdown",
      "metadata": {
        "id": "c23bd80d"
      },
      "source": [
        "#### 55. What is the equivalent of enumerate for numpy arrays? (★★☆)"
      ],
      "id": "c23bd80d"
    },
    {
      "cell_type": "code",
      "execution_count": null,
      "metadata": {
        "colab": {
          "base_uri": "https://localhost:8080/"
        },
        "id": "d95d9578",
        "outputId": "e117354e-fd1d-4766-8439-22819511dd67"
      },
      "outputs": [
        {
          "name": "stdout",
          "output_type": "stream",
          "text": [
            "Matrix With Shape 3x3:\n",
            "[[1 6 7]\n",
            " [5 1 1]\n",
            " [5 1 5]]\n",
            "\n",
            "Elements of the array with their indices:\n",
            "(0, 0) -> 1\n",
            "(0, 1) -> 6\n",
            "(0, 2) -> 7\n",
            "(1, 0) -> 5\n",
            "(1, 1) -> 1\n",
            "(1, 2) -> 1\n",
            "(2, 0) -> 5\n",
            "(2, 1) -> 1\n",
            "(2, 2) -> 5\n"
          ]
        }
      ],
      "source": [
        "# https://www.scaler.com/topics/what-is-the-equivalent-of-enum-in-numpy/\n",
        "\n",
        "np.random.seed(105)\n",
        "arr = np.random.randint(1, 10, size = (3, 3))\n",
        "print(f\"Matrix With Shape {arr.shape[0]}x{arr.shape[1]}:\\n{arr}\")\n",
        "print()\n",
        "print(\"Elements of the array with their indices:\")\n",
        "for index, value in np.ndenumerate(arr):\n",
        "    print(f\"{index} -> {value}\")\n",
        "\n"
      ],
      "id": "d95d9578"
    },
    {
      "cell_type": "markdown",
      "metadata": {
        "id": "2153a5ec"
      },
      "source": [
        "#### 56. Generate a generic 2D Gaussian-like array (★★☆)"
      ],
      "id": "2153a5ec"
    },
    {
      "cell_type": "code",
      "execution_count": null,
      "metadata": {
        "id": "61122d1e"
      },
      "outputs": [],
      "source": [],
      "id": "61122d1e"
    },
    {
      "cell_type": "markdown",
      "metadata": {
        "id": "2e76d589"
      },
      "source": [
        "#### 57. How to randomly place p elements in a 2D array? (★★☆)"
      ],
      "id": "2e76d589"
    },
    {
      "cell_type": "code",
      "execution_count": null,
      "metadata": {
        "colab": {
          "base_uri": "https://localhost:8080/"
        },
        "id": "0c2e4fcc",
        "outputId": "02b3bb28-4001-445f-c77b-62db1f2fcb6d"
      },
      "outputs": [
        {
          "name": "stdout",
          "output_type": "stream",
          "text": [
            "[[1 1 1 1 1]\n",
            " [1 1 1 1 1]\n",
            " [1 1 1 1 1]\n",
            " [1 1 1 1 1]\n",
            " [1 1 1 1 1]]\n",
            "\n",
            "[[ 1  1  1  1  1]\n",
            " [23  1  1  1  1]\n",
            " [ 1  1  1  1  1]\n",
            " [ 1  1  1  1  1]\n",
            " [ 1  1  1  1  1]]\n"
          ]
        }
      ],
      "source": [
        "arr = np.full((5, 5), 1)\n",
        "print(arr)\n",
        "random_element = np.random.randint(10, 30)\n",
        "random_row = np.random.randint(0, arr.shape[0])\n",
        "random_col = np.random.randint(0, arr.shape[1])\n",
        "arr[random_row, random_col] = random_element\n",
        "print()\n",
        "print(arr)"
      ],
      "id": "0c2e4fcc"
    },
    {
      "cell_type": "markdown",
      "metadata": {
        "id": "8b3933eb"
      },
      "source": [
        "#### 58. Subtract the mean of each row of a matrix (★★☆)"
      ],
      "id": "8b3933eb"
    },
    {
      "cell_type": "code",
      "execution_count": null,
      "metadata": {
        "colab": {
          "base_uri": "https://localhost:8080/"
        },
        "id": "a306c9ef",
        "outputId": "da1caff1-e1fd-48f2-c03c-ae2f80834821"
      },
      "outputs": [
        {
          "name": "stdout",
          "output_type": "stream",
          "text": [
            "Matrix Before Subtracting:\n",
            "[[3 6 6 0 9]\n",
            " [8 4 7 0 0]\n",
            " [7 1 5 7 0]\n",
            " [1 4 6 2 9]\n",
            " [9 9 9 1 2]]\n",
            "\n",
            "Matrix After  Subtracting:\n",
            "[[-1.8  1.2  1.2 -4.8  4.2]\n",
            " [ 4.2  0.2  3.2 -3.8 -3.8]\n",
            " [ 3.  -3.   1.   3.  -4. ]\n",
            " [-3.4 -0.4  1.6 -2.4  4.6]\n",
            " [ 3.   3.   3.  -5.  -4. ]]\n"
          ]
        }
      ],
      "source": [
        "np.random.seed(5)\n",
        "arr = np.random.randint(0, 10, size = (5, 5))\n",
        "print(f\"Matrix Before Subtracting:\\n{arr}\")\n",
        "\n",
        "mean_for_rows = np.mean(arr, 1).reshape(5, 1)\n",
        "arr = arr - mean_for_rows\n",
        "\n",
        "print()\n",
        "print(f\"Matrix After  Subtracting:\\n{arr}\")"
      ],
      "id": "a306c9ef"
    },
    {
      "cell_type": "markdown",
      "metadata": {
        "id": "ea8807c0"
      },
      "source": [
        "#### 59. How to sort an array by the nth column? (★★☆)"
      ],
      "id": "ea8807c0"
    },
    {
      "cell_type": "code",
      "execution_count": null,
      "metadata": {
        "colab": {
          "background_save": true,
          "base_uri": "https://localhost:8080/"
        },
        "id": "cc89a699",
        "outputId": "4c341c7c-e4d5-4cf8-c74f-900d40be2bfd"
      },
      "outputs": [
        {
          "name": "stdout",
          "output_type": "stream",
          "text": [
            "Matrix Before Sorting:\n",
            "[[3 6 6 0 9]\n",
            " [8 4 7 0 0]\n",
            " [7 1 5 7 0]\n",
            " [1 4 6 2 9]\n",
            " [9 9 9 1 2]]\n",
            "\n",
            "[2 1 3 0 4]\n"
          ]
        }
      ],
      "source": [
        "np.random.seed(5)\n",
        "arr = np.random.randint(0, 10, size = (5, 5))\n",
        "print(f\"Matrix Before Sorting:\\n{arr}\")\n",
        "\n",
        "print(arr[arr[:,1].argsort()])"
      ],
      "id": "cc89a699"
    },
    {
      "cell_type": "markdown",
      "metadata": {
        "id": "00fa00a1"
      },
      "source": [
        "#### 60. How to tell if a given 2D array has null columns? (★★☆)"
      ],
      "id": "00fa00a1"
    },
    {
      "cell_type": "code",
      "execution_count": 2,
      "metadata": {
        "id": "3436e165",
        "colab": {
          "base_uri": "https://localhost:8080/"
        },
        "outputId": "3ba987c9-9542-4f7c-9305-106d3bc7cc41"
      },
      "outputs": [
        {
          "output_type": "stream",
          "name": "stdout",
          "text": [
            "[[3 2 7 7]\n",
            " [4 2 1 4]\n",
            " [3 6 7 2]\n",
            " [0 6 0 5]]\n",
            "[[ True  True  True  True]\n",
            " [ True  True  True  True]\n",
            " [ True  True  True  True]\n",
            " [False  True False  True]]\n",
            "Has Null Values\n"
          ]
        }
      ],
      "source": [
        "np.random.seed(20)\n",
        "arr = np.random.randint(0, 8, size = (4, 4))\n",
        "print(arr)\n",
        "m = arr != 0\n",
        "print(m)\n",
        "print(\"Has No Null Values\" if m.all() else \"Has Null Values\")"
      ],
      "id": "3436e165"
    },
    {
      "cell_type": "markdown",
      "metadata": {
        "id": "5a65c7a2"
      },
      "source": [
        "#### 61. Find the nearest value from a given value in an array (★★☆)"
      ],
      "id": "5a65c7a2"
    },
    {
      "cell_type": "code",
      "execution_count": 3,
      "metadata": {
        "id": "73f149d6",
        "colab": {
          "base_uri": "https://localhost:8080/"
        },
        "outputId": "cb733f0e-9f5f-4ba2-e46f-da19cf56700b"
      },
      "outputs": [
        {
          "output_type": "stream",
          "name": "stdout",
          "text": [
            "[[ 0  1  2  3  4]\n",
            " [ 5  6  7  8  9]\n",
            " [10 11 12 13 14]\n",
            " [15 16 17 18 19]\n",
            " [20 21 22 23 24]] 17.10673810452914\n",
            "Nearest Value: 17\n"
          ]
        }
      ],
      "source": [
        "arr = np.arange(0, 25).reshape(5,5)\n",
        "val = np.random.random()*26\n",
        "index = (np.abs(val - arr)).argmin()\n",
        "print(arr, val)\n",
        "\n",
        "pos = np.unravel_index(index, (5,5))\n",
        "print(f\"Nearest Value: {arr[pos[0], pos[1]]}\")"
      ],
      "id": "73f149d6"
    },
    {
      "cell_type": "markdown",
      "metadata": {
        "id": "dd83e8af"
      },
      "source": [
        "#### 62. Considering two arrays with shape (1,3) and (3,1), how to compute their sum using an iterator? (★★☆)"
      ],
      "id": "dd83e8af"
    },
    {
      "cell_type": "code",
      "execution_count": 5,
      "metadata": {
        "id": "29a709a1",
        "colab": {
          "base_uri": "https://localhost:8080/"
        },
        "outputId": "2037d308-7f13-441e-85a2-92992de20b3b"
      },
      "outputs": [
        {
          "output_type": "stream",
          "name": "stdout",
          "text": [
            "[[4 8 2]]\n",
            "\n",
            "[[7]\n",
            " [3]\n",
            " [5]]\n",
            "\n",
            "[[11 15  9]\n",
            " [ 7 11  5]\n",
            " [ 9 13  7]]\n"
          ]
        }
      ],
      "source": [
        "np.random.seed(108)\n",
        "arr_1 = np.random.randint(1, 10, size = (1, 3))\n",
        "arr_2 = np.random.randint(1, 10, size = (3, 1))\n",
        "print(arr_1)\n",
        "print()\n",
        "print(arr_2)\n",
        "print()\n",
        "print(arr_1  + arr_2)\n"
      ],
      "id": "29a709a1"
    },
    {
      "cell_type": "markdown",
      "metadata": {
        "id": "6c042efa"
      },
      "source": [
        "#### 63. Create an array class that has a name attribute (★★☆)"
      ],
      "id": "6c042efa"
    },
    {
      "cell_type": "code",
      "execution_count": null,
      "metadata": {
        "id": "45b3d2e0"
      },
      "outputs": [],
      "source": [],
      "id": "45b3d2e0"
    },
    {
      "cell_type": "markdown",
      "metadata": {
        "id": "0a075c3d"
      },
      "source": [
        "#### 64. Consider a given vector, how to add 1 to each element indexed by a second vector (be careful with repeated indices)? (★★★)"
      ],
      "id": "0a075c3d"
    },
    {
      "cell_type": "code",
      "execution_count": 11,
      "metadata": {
        "id": "36c50470",
        "colab": {
          "base_uri": "https://localhost:8080/"
        },
        "outputId": "6ee293e3-f207-4518-dd06-34788f5b594d"
      },
      "outputs": [
        {
          "output_type": "stream",
          "name": "stdout",
          "text": [
            "[1. 1. 1. 1. 1. 1. 1. 1. 1. 1.]\n",
            "[6 6 4 1 0 7 6 4 2 6 3 1 1 0 8 6 3 2 6 2]\n",
            "[3. 4. 4. 3. 3. 1. 7. 2. 2. 1.]\n"
          ]
        }
      ],
      "source": [],
      "id": "36c50470"
    },
    {
      "cell_type": "markdown",
      "metadata": {
        "id": "0fb2f0c5"
      },
      "source": [
        "#### 65. How to accumulate elements of a vector (X) to an array (F) based on an index list (I)? (★★★)"
      ],
      "id": "0fb2f0c5"
    },
    {
      "cell_type": "code",
      "execution_count": 12,
      "metadata": {
        "id": "58aa5f82",
        "colab": {
          "base_uri": "https://localhost:8080/"
        },
        "outputId": "96594d47-d076-4703-d0b0-f18940347273"
      },
      "outputs": [
        {
          "output_type": "stream",
          "name": "stdout",
          "text": [
            "[0. 7. 0. 6. 5. 0. 0. 0. 0. 3.]\n"
          ]
        }
      ],
      "source": [
        "X = np.array([1,2,3,4,5,6])\n",
        "I = np.array([1,3,9,3,4,1])\n",
        "F = np.bincount(I,X)\n",
        "print(F)"
      ],
      "id": "58aa5f82"
    },
    {
      "cell_type": "markdown",
      "metadata": {
        "id": "d89dc506"
      },
      "source": [
        "#### 66. Considering a (w,h,3) image of (dtype=ubyte), compute the number of unique colors (★★☆)"
      ],
      "id": "d89dc506"
    },
    {
      "cell_type": "code",
      "execution_count": null,
      "metadata": {
        "id": "8fb43a49"
      },
      "outputs": [],
      "source": [],
      "id": "8fb43a49"
    },
    {
      "cell_type": "markdown",
      "metadata": {
        "id": "535a5d81"
      },
      "source": [
        "#### 67. Considering a four dimensions array, how to get sum over the last two axis at once? (★★★)"
      ],
      "id": "535a5d81"
    },
    {
      "cell_type": "code",
      "execution_count": 20,
      "metadata": {
        "id": "f954ab9d",
        "colab": {
          "base_uri": "https://localhost:8080/"
        },
        "outputId": "67c3523e-37ee-409a-da54-3038589d4753"
      },
      "outputs": [
        {
          "output_type": "stream",
          "name": "stdout",
          "text": [
            "[[53 47 52 48]\n",
            " [53 51 53 46]\n",
            " [55 48 44 73]]\n"
          ]
        }
      ],
      "source": [
        "arr = np.random.randint(0,10,(3,4,3,4))\n",
        "print(arr.sum(axis=(-2,-1)))"
      ],
      "id": "f954ab9d"
    },
    {
      "cell_type": "markdown",
      "metadata": {
        "id": "eee66d3c"
      },
      "source": [
        "#### 68. Considering a one-dimensional vector D, how to compute means of subsets of D using a vector S of same size describing subset  indices? (★★★)"
      ],
      "id": "eee66d3c"
    },
    {
      "cell_type": "code",
      "execution_count": null,
      "metadata": {
        "id": "8929773a"
      },
      "outputs": [],
      "source": [],
      "id": "8929773a"
    },
    {
      "cell_type": "markdown",
      "metadata": {
        "id": "f90d4c40"
      },
      "source": [
        "#### 69. How to get the diagonal of a dot product? (★★★)"
      ],
      "id": "f90d4c40"
    },
    {
      "cell_type": "code",
      "execution_count": 45,
      "metadata": {
        "id": "b47d392d",
        "colab": {
          "base_uri": "https://localhost:8080/"
        },
        "outputId": "1314559c-b95e-4dde-d6c2-d19c9a09afec"
      },
      "outputs": [
        {
          "output_type": "stream",
          "name": "stdout",
          "text": [
            "[[1 2 3]\n",
            " [4 5 6]\n",
            " [7 8 9]]\n",
            "\n",
            "[[10 11 12]\n",
            " [13 14 15]\n",
            " [16 17 18]]\n",
            "\n",
            "Dot Product of 2 matrix: \n",
            "[[ 84  90  96]\n",
            " [201 216 231]\n",
            " [318 342 366]]\n",
            "Dot Product Diagonal: \n",
            "[ 84 216 366]\n"
          ]
        }
      ],
      "source": [
        "arr_1 = np.arange(1,10).reshape(3,3)\n",
        "arr_2 = np.arange(10,19).reshape(3,3)\n",
        "print(arr_1)\n",
        "print()\n",
        "print(arr_2)\n",
        "print()\n",
        "dot_product = np.dot(arr_1, arr_2)\n",
        "print(f\"Dot Product of 2 matrix: \\n{dot_product}\")\n",
        "print(f\"Dot Product Diagonal: \\n{dot_product.diagonal()}\")\n"
      ],
      "id": "b47d392d"
    },
    {
      "cell_type": "markdown",
      "metadata": {
        "id": "a8a97e7d"
      },
      "source": [
        "#### 70. Consider the vector [1, 2, 3, 4, 5], how to build a new vector with 3 consecutive zeros interleaved between each value? (★★★)"
      ],
      "id": "a8a97e7d"
    },
    {
      "cell_type": "code",
      "execution_count": 72,
      "metadata": {
        "id": "ee6c6c37",
        "colab": {
          "base_uri": "https://localhost:8080/"
        },
        "outputId": "5b00a1ff-ec38-4a7d-b3ec-243b784f9884"
      },
      "outputs": [
        {
          "output_type": "stream",
          "name": "stdout",
          "text": [
            "[1 2 3 4 5]\n",
            "[1 0 0 0 2 0 0 0 3 0 0 0 4 0 0 0 5]\n"
          ]
        }
      ],
      "source": [
        "arr = np.array([1, 2, 3, 4, 5])\n",
        "print(arr)\n",
        "arr = arr.reshape(5,1)\n",
        "arr_zeros = np.zeros((arr.shape[0], 3), dtype= np.int8)\n",
        "arr = np.concatenate((arr, arr_zeros), axis = 1)\n",
        "arr = arr.flatten()[0:-3]\n",
        "print(arr)"
      ],
      "id": "ee6c6c37"
    },
    {
      "cell_type": "markdown",
      "metadata": {
        "id": "d6a30d60"
      },
      "source": [
        "#### 71. Consider an array of dimension (5,5,3), how to mulitply it by an array with dimensions (5,5)? (★★★)"
      ],
      "id": "d6a30d60"
    },
    {
      "cell_type": "code",
      "execution_count": 32,
      "metadata": {
        "id": "e9703f2e",
        "colab": {
          "base_uri": "https://localhost:8080/"
        },
        "outputId": "65f97454-c2c4-43da-fdc1-701ea7483ac0"
      },
      "outputs": [
        {
          "output_type": "stream",
          "name": "stdout",
          "text": [
            "Original array:\n",
            "[[[ 72 126   9]\n",
            "  [  2  13  11]\n",
            "  [ 90 130  10]\n",
            "  [  6  36   6]\n",
            "  [ 42  18  48]]\n",
            "\n",
            " [[117  65 169]\n",
            "  [104  78 104]\n",
            "  [ 42  66   6]\n",
            "  [ 60  72  12]\n",
            "  [ 55  30  50]]\n",
            "\n",
            " [[108  72  99]\n",
            "  [110 140  30]\n",
            "  [ 24  24  12]\n",
            "  [126  36  45]\n",
            "  [ 96 108 144]]\n",
            "\n",
            " [[140  70  14]\n",
            "  [ 21  21  77]\n",
            "  [  2   4  14]\n",
            "  [ 36   9  63]\n",
            "  [  6  33   3]]\n",
            "\n",
            " [[  8  52  36]\n",
            "  [ 20  28  12]\n",
            "  [112  72  80]\n",
            "  [  5  15  10]\n",
            "  [ 18  18   4]]]\n"
          ]
        }
      ],
      "source": [
        "nums1 = np.random.randint(1, 15, size = (5,5,3))\n",
        "nums2 = np.random.randint(1, 15, size = (5,5)).reshape(5,5,1)\n",
        "print(\"Multiplication array:\")\n",
        "print(nums1 * nums2)\n"
      ],
      "id": "e9703f2e"
    },
    {
      "cell_type": "markdown",
      "metadata": {
        "id": "bac359a9"
      },
      "source": [
        "#### 72. How to swap two rows of an array? (★★★)"
      ],
      "id": "bac359a9"
    },
    {
      "cell_type": "code",
      "execution_count": 6,
      "metadata": {
        "id": "f1b432b1",
        "colab": {
          "base_uri": "https://localhost:8080/"
        },
        "outputId": "fb4ae666-1920-4ca7-b375-566cb64fed82"
      },
      "outputs": [
        {
          "output_type": "stream",
          "name": "stdout",
          "text": [
            "Before Swapping\n",
            "[[ 1  2  3  4]\n",
            " [ 5  6  8  7]\n",
            " [10 40 68 27]\n",
            " [ 3  4  9  6]]\n",
            "\n",
            "After  Swapping\n",
            "[[10 40 68 27]\n",
            " [ 5  6  8  7]\n",
            " [ 1  2  3  4]\n",
            " [ 3  4  9  6]]\n"
          ]
        }
      ],
      "source": [
        "arr = np.array([[1, 2, 3, 4], [5, 6, 8, 7], [10, 40, 68, 27], [3, 4, 9, 6]])\n",
        "print(\"Before Swapping\")\n",
        "print(arr)\n",
        "print()\n",
        "temp =np.copy(arr[0, :])\n",
        "arr[0, :] = arr[2, :]\n",
        "arr[2, :] = temp\n",
        "print(\"After  Swapping\")\n",
        "print(arr)\n"
      ],
      "id": "f1b432b1"
    },
    {
      "cell_type": "markdown",
      "metadata": {
        "id": "620c9f83"
      },
      "source": [
        "#### 73. Consider a set of 10 triplets describing 10 triangles (with shared vertices), find the set of unique line segments composing all the  triangles (★★★)"
      ],
      "id": "620c9f83"
    },
    {
      "cell_type": "code",
      "execution_count": null,
      "metadata": {
        "id": "4e595ffc"
      },
      "outputs": [],
      "source": [],
      "id": "4e595ffc"
    },
    {
      "cell_type": "markdown",
      "metadata": {
        "id": "a76c55a2"
      },
      "source": [
        "#### 74. Given a sorted array C that corresponds to a bincount, how to produce an array A such that np.bincount(A) == C? (★★★)"
      ],
      "id": "a76c55a2"
    },
    {
      "cell_type": "code",
      "execution_count": null,
      "metadata": {
        "id": "2d2ae65a"
      },
      "outputs": [],
      "source": [],
      "id": "2d2ae65a"
    },
    {
      "cell_type": "markdown",
      "metadata": {
        "id": "d550c8e2"
      },
      "source": [
        "#### 75. How to compute averages using a sliding window over an array? (★★★)"
      ],
      "id": "d550c8e2"
    },
    {
      "cell_type": "code",
      "execution_count": null,
      "metadata": {
        "id": "841c457c"
      },
      "outputs": [],
      "source": [],
      "id": "841c457c"
    },
    {
      "cell_type": "markdown",
      "metadata": {
        "id": "6b170b00"
      },
      "source": [
        "#### 76. Consider a one-dimensional array Z, build a two-dimensional array whose first row is (Z[0],Z[1],Z[2]) and each subsequent row is  shifted by 1 (last row should be (Z[-3],Z[-2],Z[-1]) (★★★)"
      ],
      "id": "6b170b00"
    },
    {
      "cell_type": "code",
      "execution_count": null,
      "metadata": {
        "id": "d9a0cf4e"
      },
      "outputs": [],
      "source": [],
      "id": "d9a0cf4e"
    },
    {
      "cell_type": "markdown",
      "metadata": {
        "id": "e94a5c1d"
      },
      "source": [
        "#### 77. How to negate a boolean, or to change the sign of a float inplace? (★★★)"
      ],
      "id": "e94a5c1d"
    },
    {
      "cell_type": "code",
      "execution_count": null,
      "metadata": {
        "id": "c0f9504f"
      },
      "outputs": [],
      "source": [],
      "id": "c0f9504f"
    },
    {
      "cell_type": "markdown",
      "metadata": {
        "id": "4eb8b5c1"
      },
      "source": [
        "#### 78. Consider 2 sets of points P0,P1 describing lines (2d) and a point p, how to compute distance from p to each line i (P0[i],P1[i])? (★★★)"
      ],
      "id": "4eb8b5c1"
    },
    {
      "cell_type": "code",
      "execution_count": null,
      "metadata": {
        "id": "487f47ec"
      },
      "outputs": [],
      "source": [],
      "id": "487f47ec"
    },
    {
      "cell_type": "markdown",
      "metadata": {
        "id": "3df99948"
      },
      "source": [
        "#### 79. Consider 2 sets of points P0,P1 describing lines (2d) and a set of points P, how to compute distance from each point j (P[j]) to each line i (P0[i],P1[i])? (★★★)"
      ],
      "id": "3df99948"
    },
    {
      "cell_type": "code",
      "execution_count": null,
      "metadata": {
        "id": "dc2df37b"
      },
      "outputs": [],
      "source": [],
      "id": "dc2df37b"
    },
    {
      "cell_type": "markdown",
      "metadata": {
        "id": "11e972c2"
      },
      "source": [
        "#### 80. Consider an arbitrary array, write a function that extract a subpart with a fixed shape and centered on a given element (pad with a `fill` value when necessary) (★★★)"
      ],
      "id": "11e972c2"
    },
    {
      "cell_type": "code",
      "execution_count": null,
      "metadata": {
        "id": "0291247f"
      },
      "outputs": [],
      "source": [],
      "id": "0291247f"
    },
    {
      "cell_type": "markdown",
      "metadata": {
        "id": "93cfeab3"
      },
      "source": [
        "#### 81. Consider an array Z = [1,2,3,4,5,6,7,8,9,10,11,12,13,14], how to generate an array R = [[1,2,3,4], [2,3,4,5], [3,4,5,6], ..., [11,12,13,14]]? (★★★)"
      ],
      "id": "93cfeab3"
    },
    {
      "cell_type": "code",
      "execution_count": null,
      "metadata": {
        "id": "360de791"
      },
      "outputs": [],
      "source": [],
      "id": "360de791"
    },
    {
      "cell_type": "markdown",
      "metadata": {
        "id": "4c15ceff"
      },
      "source": [
        "#### 82. Compute a matrix rank (★★★)"
      ],
      "id": "4c15ceff"
    },
    {
      "cell_type": "code",
      "execution_count": null,
      "metadata": {
        "id": "9a4272d2"
      },
      "outputs": [],
      "source": [],
      "id": "9a4272d2"
    },
    {
      "cell_type": "markdown",
      "metadata": {
        "id": "1171cb84"
      },
      "source": [
        "#### 83. How to find the most frequent value in an array?"
      ],
      "id": "1171cb84"
    },
    {
      "cell_type": "code",
      "execution_count": null,
      "metadata": {
        "id": "33e951c8"
      },
      "outputs": [],
      "source": [],
      "id": "33e951c8"
    },
    {
      "cell_type": "markdown",
      "metadata": {
        "id": "04f472aa"
      },
      "source": [
        "#### 84. Extract all the contiguous 3x3 blocks from a random 10x10 matrix (★★★)"
      ],
      "id": "04f472aa"
    },
    {
      "cell_type": "code",
      "execution_count": null,
      "metadata": {
        "id": "7aade14a"
      },
      "outputs": [],
      "source": [],
      "id": "7aade14a"
    },
    {
      "cell_type": "markdown",
      "metadata": {
        "id": "52836346"
      },
      "source": [
        "#### 85. Create a 2D array subclass such that Z[i,j] == Z[j,i] (★★★)"
      ],
      "id": "52836346"
    },
    {
      "cell_type": "code",
      "execution_count": null,
      "metadata": {
        "id": "4df70318"
      },
      "outputs": [],
      "source": [],
      "id": "4df70318"
    },
    {
      "cell_type": "markdown",
      "metadata": {
        "id": "78c43ee5"
      },
      "source": [
        "#### 86. Consider a set of p matrices with shape (n,n) and a set of p vectors with shape (n,1). How to compute the sum of of the p matrix products at once? (result has shape (n,1)) (★★★)"
      ],
      "id": "78c43ee5"
    },
    {
      "cell_type": "code",
      "execution_count": null,
      "metadata": {
        "id": "32fd2c3b"
      },
      "outputs": [],
      "source": [],
      "id": "32fd2c3b"
    },
    {
      "cell_type": "markdown",
      "metadata": {
        "id": "158f9945"
      },
      "source": [
        "#### 87. Consider a 16x16 array, how to get the block-sum (block size is 4x4)? (★★★)"
      ],
      "id": "158f9945"
    },
    {
      "cell_type": "code",
      "execution_count": null,
      "metadata": {
        "id": "5a9b808f"
      },
      "outputs": [],
      "source": [],
      "id": "5a9b808f"
    },
    {
      "cell_type": "markdown",
      "metadata": {
        "id": "2e0ad860"
      },
      "source": [
        "#### 88. How to implement the Game of Life using numpy arrays? (★★★)"
      ],
      "id": "2e0ad860"
    },
    {
      "cell_type": "code",
      "execution_count": null,
      "metadata": {
        "id": "574acff5"
      },
      "outputs": [],
      "source": [],
      "id": "574acff5"
    },
    {
      "cell_type": "markdown",
      "metadata": {
        "id": "69a892fa"
      },
      "source": [
        "#### 89. How to get the n largest values of an array (★★★)"
      ],
      "id": "69a892fa"
    },
    {
      "cell_type": "code",
      "execution_count": null,
      "metadata": {
        "id": "21b2bd48"
      },
      "outputs": [],
      "source": [],
      "id": "21b2bd48"
    },
    {
      "cell_type": "markdown",
      "metadata": {
        "id": "b55ccacc"
      },
      "source": [
        "#### 90. Given an arbitrary number of vectors, build the cartesian product (every combinations of every item) (★★★)"
      ],
      "id": "b55ccacc"
    },
    {
      "cell_type": "code",
      "execution_count": null,
      "metadata": {
        "id": "4b645da4"
      },
      "outputs": [],
      "source": [],
      "id": "4b645da4"
    },
    {
      "cell_type": "markdown",
      "metadata": {
        "id": "89187a23"
      },
      "source": [
        "#### 91. How to create a record array from a regular array? (★★★)"
      ],
      "id": "89187a23"
    },
    {
      "cell_type": "code",
      "execution_count": null,
      "metadata": {
        "id": "da94c71a"
      },
      "outputs": [],
      "source": [],
      "id": "da94c71a"
    },
    {
      "cell_type": "markdown",
      "metadata": {
        "id": "aa70d4ca"
      },
      "source": [
        "#### 92. Consider a large vector Z, compute Z to the power of 3 using 3 different methods (★★★)"
      ],
      "id": "aa70d4ca"
    },
    {
      "cell_type": "code",
      "execution_count": null,
      "metadata": {
        "id": "7cff1bf5"
      },
      "outputs": [],
      "source": [],
      "id": "7cff1bf5"
    },
    {
      "cell_type": "markdown",
      "metadata": {
        "id": "5f79dd00"
      },
      "source": [
        "#### 93. Consider two arrays A and B of shape (8,3) and (2,2). How to find rows of A that contain elements of each row of B regardless of the order of the elements in B? (★★★)"
      ],
      "id": "5f79dd00"
    },
    {
      "cell_type": "code",
      "execution_count": null,
      "metadata": {
        "id": "20c105b2"
      },
      "outputs": [],
      "source": [],
      "id": "20c105b2"
    },
    {
      "cell_type": "markdown",
      "metadata": {
        "id": "a80570cd"
      },
      "source": [
        "#### 94. Considering a 10x3 matrix, extract rows with unequal values (e.g. [2,2,3]) (★★★)"
      ],
      "id": "a80570cd"
    },
    {
      "cell_type": "code",
      "execution_count": null,
      "metadata": {
        "id": "84db8de1"
      },
      "outputs": [],
      "source": [],
      "id": "84db8de1"
    },
    {
      "cell_type": "markdown",
      "metadata": {
        "id": "ba154f43"
      },
      "source": [
        "#### 95. Convert a vector of ints into a matrix binary representation (★★★)"
      ],
      "id": "ba154f43"
    },
    {
      "cell_type": "code",
      "execution_count": null,
      "metadata": {
        "id": "cfa96e1b"
      },
      "outputs": [],
      "source": [],
      "id": "cfa96e1b"
    },
    {
      "cell_type": "markdown",
      "metadata": {
        "id": "420e2343"
      },
      "source": [
        "#### 96. Given a two dimensional array, how to extract unique rows? (★★★)"
      ],
      "id": "420e2343"
    },
    {
      "cell_type": "code",
      "execution_count": null,
      "metadata": {
        "id": "4680dfd0"
      },
      "outputs": [],
      "source": [],
      "id": "4680dfd0"
    },
    {
      "cell_type": "markdown",
      "metadata": {
        "id": "89fef2f3"
      },
      "source": [
        "#### 97. Considering 2 vectors A & B, write the einsum equivalent of inner, outer, sum, and mul function (★★★)"
      ],
      "id": "89fef2f3"
    },
    {
      "cell_type": "code",
      "execution_count": null,
      "metadata": {
        "id": "bb9c14b2"
      },
      "outputs": [],
      "source": [],
      "id": "bb9c14b2"
    },
    {
      "cell_type": "markdown",
      "metadata": {
        "id": "7ad5cc5f"
      },
      "source": [
        "#### 98. Considering a path described by two vectors (X,Y), how to sample it using equidistant samples (★★★)?"
      ],
      "id": "7ad5cc5f"
    },
    {
      "cell_type": "code",
      "execution_count": null,
      "metadata": {
        "id": "0899d1d5"
      },
      "outputs": [],
      "source": [],
      "id": "0899d1d5"
    },
    {
      "cell_type": "markdown",
      "metadata": {
        "id": "2b69272e"
      },
      "source": [
        "#### 99. Given an integer n and a 2D array X, select from X the rows which can be interpreted as draws from a multinomial distribution with n degrees, i.e., the rows which only contain integers and which sum to n. (★★★)"
      ],
      "id": "2b69272e"
    },
    {
      "cell_type": "code",
      "execution_count": null,
      "metadata": {
        "id": "55c8b034"
      },
      "outputs": [],
      "source": [],
      "id": "55c8b034"
    },
    {
      "cell_type": "markdown",
      "metadata": {
        "id": "59ab5516"
      },
      "source": [
        "#### 100. Compute bootstrapped 95% confidence intervals for the mean of a 1D array X (i.e., resample the elements of an array with replacement N times, compute the mean of each sample, and then compute percentiles over the means). (★★★)"
      ],
      "id": "59ab5516"
    },
    {
      "cell_type": "code",
      "execution_count": null,
      "metadata": {
        "id": "450877d8"
      },
      "outputs": [],
      "source": [],
      "id": "450877d8"
    }
  ],
  "metadata": {
    "colab": {
      "provenance": []
    },
    "kernelspec": {
      "display_name": "Python 3 (ipykernel)",
      "language": "python",
      "name": "python3"
    },
    "language_info": {
      "codemirror_mode": {
        "name": "ipython",
        "version": 3
      },
      "file_extension": ".py",
      "mimetype": "text/x-python",
      "name": "python",
      "nbconvert_exporter": "python",
      "pygments_lexer": "ipython3",
      "version": "3.10.9"
    }
  },
  "nbformat": 4,
  "nbformat_minor": 5
}